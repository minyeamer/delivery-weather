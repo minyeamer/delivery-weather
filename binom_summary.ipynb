{
 "cells": [
  {
   "cell_type": "markdown",
   "source": "# 이항검정(binom_test) ",
   "metadata": {
    "cell_id": "93133f5b287343e1b08bf138de43f5bd",
    "tags": [],
    "deepnote_cell_type": "markdown",
    "deepnote_cell_height": 82
   }
  },
  {
   "cell_type": "markdown",
   "source": "#",
   "metadata": {
    "cell_id": "e7232dcb97ab4d0ba37b705e1e2ec710",
    "tags": [],
    "deepnote_cell_type": "markdown",
    "deepnote_cell_height": 46
   }
  },
  {
   "cell_type": "markdown",
   "source": "## 비오는 날에 따른 탕류의 주문량 변화량 검정",
   "metadata": {
    "cell_id": "df747360797b43c39ff137d5892b3ce1",
    "tags": [],
    "deepnote_cell_type": "markdown",
    "deepnote_cell_height": 110
   }
  },
  {
   "cell_type": "markdown",
   "source": "#### ■ 가설 \n- 귀무 가설 : 비오는 날에는 탕류의 주문량이 변하지 않는다. \n- 대립 가설 : 비오는 날에는 탕류의 주문이 증가한다. \n\n< 탕 (배달의 민족 기준):감자탕, 순대국, 아구찜, 해물탕 ...>",
   "metadata": {
    "cell_id": "7b4d823108494d9b9b10fdd349109de5",
    "tags": [],
    "deepnote_cell_type": "markdown",
    "deepnote_cell_height": 150.1875
   }
  },
  {
   "cell_type": "markdown",
   "source": "#### ■ 가설 검증 과정\n\n```python\n    date   sum   tang  isRainnyDay   diff\n0   01-06  3757  126.0        False    0.0\n1   01-07    95    4.0         True -122.0\n2   02-11  5170  133.0        False  129.0\n3   02-12  3841   54.0         True  -79.0\n4   02-15  3965  169.0        False  115.0\n5   02-16  5208  149.0         True  -20.0\n6   02-20  7562  270.0        False  121.0\n7   02-21  6867  261.0         True   -9.0\n8   02-24  5522  191.0        False  -70.0\n9   02-25  5710  174.0         True  -17.0\n10  02-27  7130  251.0        False   77.0\n11  02-28  7426  307.0         True   56.0\n12  03-09  5535  137.0        False -170.0\n13  03-10  5730  144.0         True    7.0\n\n... 생략\n\n```\n- 맑은 날에서 비오는 날로 변하는 date만 추출해서 이항 검정 진행\n- 비오는 날 탕의 주문이 증가: 6\n- 비오는 날 오히려 탕 주문이 감소: 20\n\n\n##### 1-1) stats.binom_test(x, p = , alternative=\"two-sided\") : 양측 검정\n```python\np_value = stats.binom_test([increaseCnt, decreaseCnt], p = 0.5, alternative=\"two-sided\")\nprint(p_value)\n```\n##### 1-2) stats.binom_test(x, p = , alternative=\"two-sided\") : 양측 검정(조건 반전)\n```python\np_value = stats.binom_test([decreaseCnt, increaseCnt], p = 0.5, alternative=\"two-sided\")\nprint(p_value)\n```\n##### 2-1) stats.binom_test(x, p = , alternative=\"greater\") : 단측검정\n```python\np_value = 1 - stats.binom_test([increaseCnt, decreaseCnt], p = 0.5, alternative=\"greater\")\nprint(p_value)# p-value : 0.000317 < 0\n```\n##### 2-2) stats.binom_test(x, p = , alternative=\"less\") : 단측검정(조건 반전)\n```python\np_value = 1 - stats.binom_test([decreaseCnt, increaseCnt], p = 0.5, alternative=\"less\")\nprint(p_value)\n\n```\n##### ■ 결론 : 대립가설 기각",
   "metadata": {
    "cell_id": "71dca978771d439ab2ddae20c2d1c888",
    "tags": [],
    "deepnote_cell_type": "markdown",
    "deepnote_cell_height": 1153.75
   }
  },
  {
   "cell_type": "code",
   "metadata": {
    "cell_id": "db791c6df9e54fbfb828d4d763c903d5",
    "tags": [],
    "deepnote_to_be_reexecuted": false,
    "source_hash": "6010142c",
    "execution_start": 1649212875263,
    "execution_millis": 1,
    "deepnote_cell_type": "code",
    "deepnote_cell_height": 81
   },
   "source": "",
   "execution_count": null,
   "outputs": []
  },
  {
   "cell_type": "code",
   "metadata": {
    "cell_id": "53b0a1e0e35c4e2da1909a7b704fb7fc",
    "tags": [],
    "deepnote_cell_type": "code",
    "deepnote_cell_height": 66.15625
   },
   "source": "",
   "execution_count": null,
   "outputs": []
  },
  {
   "cell_type": "markdown",
   "source": "## 온도변화에 따른 심부름 변화양 검정\n원본 코드 참고 : binom_test_cold_sy.ipynb\n\n#### 가설\n> 귀무가설 : 온도가 내려간 날에 심부름양이 변하지 않았다.\n\n> 대립가설 : 온도가 내려간 날에 심부름양이 증가한다.",
   "metadata": {
    "cell_id": "a97e55ccedc74bfea89a106c44826180",
    "tags": [],
    "deepnote_cell_type": "markdown",
    "deepnote_cell_height": 231.1875
   }
  },
  {
   "cell_type": "code",
   "metadata": {
    "cell_id": "57abc38e4a1740fdbb3b1f7a309dd93b",
    "tags": [],
    "deepnote_to_be_reexecuted": false,
    "source_hash": "18034347",
    "execution_start": 1649220844797,
    "execution_millis": 38,
    "deepnote_cell_type": "code",
    "deepnote_cell_height": 927
   },
   "source": "# 배달 음식 카테고리 리스트로 가져오기(총 배달횟수 포함)\ncategories_s = delivery_list[0].columns.tolist()[:]\n# 온도 데이터 가져옴\nweather_df = weather_list[0]\n\n# 전날 대비 온도 증감 계산\ntemp_diff = np.diff(weather_df['temp']).tolist()\ntemp_diff.insert(0, 0)\n\n# 반올림\nfor i in range(len(temp_diff)):\n    temp_diff[i] = round(temp_diff[i],1)\n\n# weather_df에 추가하고 원본 데이터 drop\nweather_df['temp_diff'] = temp_diff\nweather_df = weather_df.drop(columns={'temp', 'rain'})\n\n# 그냥 심부름 배달량 데이터 가져옴\nall_delivery_list = delivery_list.copy()\n\nsim_delivery = pd.DataFrame(all_delivery_list[0])\nfor category in categories_s:\n    if category != 'simburum':\n        sim_delivery = sim_delivery.drop(columns={category})\n\n# 전날 대비 심부름 증감 계산\nsim_diff = np.diff(sim_delivery['simburum']).tolist()\nsim_diff.insert(0, 0)\n\n# 전날대비 심부름 증감 추가\nsim_delivery['simburum_diff'] = sim_diff\n\n# 원본 심부름 데이터 삭제\nsim_delivery = sim_delivery.drop(columns={'simburum'})\n\n# 온도 즘감량 추가\nsim_delivery = sim_delivery.join(weather_df)\n\n# 전날 대비 온도가 낮아진 날이면서 전날대비 배달량 증가한 데이터 뽑아서 모아줌\nboth = (sim_delivery.simburum_diff > 0) & (sim_delivery.temp_diff < 0)\ncold_simburum_df = sim_delivery[both]\n\n# 전날대비 온도가 낮아진 날\ncolder_days = weather_df[weather_df.temp_diff<0]\n\n# 온도가 내려간 날 중 심부름 배달이 증가한 날\nsim_increase = cold_simburum_df[cold_simburum_df.simburum_diff > 0]\n",
   "execution_count": 7,
   "outputs": []
  },
  {
   "cell_type": "code",
   "metadata": {
    "cell_id": "a6b2177210354e8e94f3f30439ad6999",
    "tags": [],
    "deepnote_to_be_reexecuted": false,
    "source_hash": "b915e65f",
    "execution_start": 1649220853283,
    "execution_millis": 29,
    "deepnote_cell_type": "code",
    "deepnote_cell_height": 600
   },
   "source": "cold_simburum_df",
   "execution_count": 8,
   "outputs": [
    {
     "output_type": "execute_result",
     "execution_count": 8,
     "data": {
      "application/vnd.deepnote.dataframe.v3+json": {
       "column_count": 2,
       "row_count": 26,
       "columns": [
        {
         "name": "simburum_diff",
         "dtype": "float64",
         "stats": {
          "unique_count": 16,
          "nan_count": 0,
          "min": "1.0",
          "max": "94.0",
          "histogram": [
           {
            "bin_start": 1,
            "bin_end": 10.3,
            "count": 16
           },
           {
            "bin_start": 10.3,
            "bin_end": 19.6,
            "count": 4
           },
           {
            "bin_start": 19.6,
            "bin_end": 28.900000000000002,
            "count": 3
           },
           {
            "bin_start": 28.900000000000002,
            "bin_end": 38.2,
            "count": 1
           },
           {
            "bin_start": 38.2,
            "bin_end": 47.5,
            "count": 1
           },
           {
            "bin_start": 47.5,
            "bin_end": 56.800000000000004,
            "count": 0
           },
           {
            "bin_start": 56.800000000000004,
            "bin_end": 66.10000000000001,
            "count": 0
           },
           {
            "bin_start": 66.10000000000001,
            "bin_end": 75.4,
            "count": 0
           },
           {
            "bin_start": 75.4,
            "bin_end": 84.7,
            "count": 0
           },
           {
            "bin_start": 84.7,
            "bin_end": 94,
            "count": 1
           }
          ]
         }
        },
        {
         "name": "temp_diff",
         "dtype": "float64",
         "stats": {
          "unique_count": 20,
          "nan_count": 0,
          "min": "-7.9",
          "max": "-0.1",
          "histogram": [
           {
            "bin_start": -7.9,
            "bin_end": -7.12,
            "count": 1
           },
           {
            "bin_start": -7.12,
            "bin_end": -6.34,
            "count": 1
           },
           {
            "bin_start": -6.34,
            "bin_end": -5.5600000000000005,
            "count": 1
           },
           {
            "bin_start": -5.5600000000000005,
            "bin_end": -4.78,
            "count": 0
           },
           {
            "bin_start": -4.78,
            "bin_end": -4,
            "count": 1
           },
           {
            "bin_start": -4,
            "bin_end": -3.2200000000000006,
            "count": 3
           },
           {
            "bin_start": -3.2200000000000006,
            "bin_end": -2.4400000000000004,
            "count": 2
           },
           {
            "bin_start": -2.4400000000000004,
            "bin_end": -1.6600000000000001,
            "count": 2
           },
           {
            "bin_start": -1.6600000000000001,
            "bin_end": -0.8799999999999999,
            "count": 9
           },
           {
            "bin_start": -0.8799999999999999,
            "bin_end": -0.1,
            "count": 6
           }
          ]
         }
        },
        {
         "name": "_deepnote_index_column",
         "dtype": "object"
        }
       ],
       "rows": [
        {
         "simburum_diff": 6,
         "temp_diff": -0.7,
         "_deepnote_index_column": "08-27"
        },
        {
         "simburum_diff": 7,
         "temp_diff": -2.7,
         "_deepnote_index_column": "08-29"
        },
        {
         "simburum_diff": 12,
         "temp_diff": -0.8,
         "_deepnote_index_column": "08-30"
        },
        {
         "simburum_diff": 9,
         "temp_diff": -0.2,
         "_deepnote_index_column": "09-30"
        },
        {
         "simburum_diff": 1,
         "temp_diff": -3.7,
         "_deepnote_index_column": "10-05"
        },
        {
         "simburum_diff": 43,
         "temp_diff": -0.9,
         "_deepnote_index_column": "10-12"
        },
        {
         "simburum_diff": 94,
         "temp_diff": -2.8,
         "_deepnote_index_column": "10-14"
        },
        {
         "simburum_diff": 3,
         "temp_diff": -1.1,
         "_deepnote_index_column": "10-23"
        },
        {
         "simburum_diff": 4,
         "temp_diff": -1.6,
         "_deepnote_index_column": "10-25"
        },
        {
         "simburum_diff": 4,
         "temp_diff": -1.3,
         "_deepnote_index_column": "10-30"
        }
       ]
      },
      "text/plain": "       simburum_diff  temp_diff\ndate                           \n08-27            6.0       -0.7\n08-29            7.0       -2.7\n08-30           12.0       -0.8\n09-30            9.0       -0.2\n10-05            1.0       -3.7\n10-12           43.0       -0.9\n10-14           94.0       -2.8\n10-23            3.0       -1.1\n10-25            4.0       -1.6\n10-30            4.0       -1.3\n11-04           22.0       -0.9\n11-05            4.0       -1.4\n11-06            2.0       -1.4\n11-07            1.0       -1.8\n11-12            3.0       -1.9\n11-14            1.0       -5.9\n11-18           31.0       -3.7\n11-25           21.0       -7.9\n12-02           12.0       -4.7\n12-06            6.0       -1.5\n12-12            1.0       -7.0\n12-17           12.0       -0.1\n12-20            8.0       -0.3\n12-23           23.0       -0.7\n12-27            7.0       -3.7\n12-30           11.0       -1.1",
      "text/html": "<div>\n<style scoped>\n    .dataframe tbody tr th:only-of-type {\n        vertical-align: middle;\n    }\n\n    .dataframe tbody tr th {\n        vertical-align: top;\n    }\n\n    .dataframe thead th {\n        text-align: right;\n    }\n</style>\n<table border=\"1\" class=\"dataframe\">\n  <thead>\n    <tr style=\"text-align: right;\">\n      <th></th>\n      <th>simburum_diff</th>\n      <th>temp_diff</th>\n    </tr>\n    <tr>\n      <th>date</th>\n      <th></th>\n      <th></th>\n    </tr>\n  </thead>\n  <tbody>\n    <tr>\n      <th>08-27</th>\n      <td>6.0</td>\n      <td>-0.7</td>\n    </tr>\n    <tr>\n      <th>08-29</th>\n      <td>7.0</td>\n      <td>-2.7</td>\n    </tr>\n    <tr>\n      <th>08-30</th>\n      <td>12.0</td>\n      <td>-0.8</td>\n    </tr>\n    <tr>\n      <th>09-30</th>\n      <td>9.0</td>\n      <td>-0.2</td>\n    </tr>\n    <tr>\n      <th>10-05</th>\n      <td>1.0</td>\n      <td>-3.7</td>\n    </tr>\n    <tr>\n      <th>10-12</th>\n      <td>43.0</td>\n      <td>-0.9</td>\n    </tr>\n    <tr>\n      <th>10-14</th>\n      <td>94.0</td>\n      <td>-2.8</td>\n    </tr>\n    <tr>\n      <th>10-23</th>\n      <td>3.0</td>\n      <td>-1.1</td>\n    </tr>\n    <tr>\n      <th>10-25</th>\n      <td>4.0</td>\n      <td>-1.6</td>\n    </tr>\n    <tr>\n      <th>10-30</th>\n      <td>4.0</td>\n      <td>-1.3</td>\n    </tr>\n    <tr>\n      <th>11-04</th>\n      <td>22.0</td>\n      <td>-0.9</td>\n    </tr>\n    <tr>\n      <th>11-05</th>\n      <td>4.0</td>\n      <td>-1.4</td>\n    </tr>\n    <tr>\n      <th>11-06</th>\n      <td>2.0</td>\n      <td>-1.4</td>\n    </tr>\n    <tr>\n      <th>11-07</th>\n      <td>1.0</td>\n      <td>-1.8</td>\n    </tr>\n    <tr>\n      <th>11-12</th>\n      <td>3.0</td>\n      <td>-1.9</td>\n    </tr>\n    <tr>\n      <th>11-14</th>\n      <td>1.0</td>\n      <td>-5.9</td>\n    </tr>\n    <tr>\n      <th>11-18</th>\n      <td>31.0</td>\n      <td>-3.7</td>\n    </tr>\n    <tr>\n      <th>11-25</th>\n      <td>21.0</td>\n      <td>-7.9</td>\n    </tr>\n    <tr>\n      <th>12-02</th>\n      <td>12.0</td>\n      <td>-4.7</td>\n    </tr>\n    <tr>\n      <th>12-06</th>\n      <td>6.0</td>\n      <td>-1.5</td>\n    </tr>\n    <tr>\n      <th>12-12</th>\n      <td>1.0</td>\n      <td>-7.0</td>\n    </tr>\n    <tr>\n      <th>12-17</th>\n      <td>12.0</td>\n      <td>-0.1</td>\n    </tr>\n    <tr>\n      <th>12-20</th>\n      <td>8.0</td>\n      <td>-0.3</td>\n    </tr>\n    <tr>\n      <th>12-23</th>\n      <td>23.0</td>\n      <td>-0.7</td>\n    </tr>\n    <tr>\n      <th>12-27</th>\n      <td>7.0</td>\n      <td>-3.7</td>\n    </tr>\n    <tr>\n      <th>12-30</th>\n      <td>11.0</td>\n      <td>-1.1</td>\n    </tr>\n  </tbody>\n</table>\n</div>"
     },
     "metadata": {}
    }
   ]
  },
  {
   "cell_type": "markdown",
   "source": "- 전날대비 온도 증감량과 전날 대비 심부름 배달 증감량 데이터 추출\n- 전날대비 온도가 낮아진 날 : 71\n- 온도가 내려간 날 중 심부름 배달이 증가한 날 : 26",
   "metadata": {
    "cell_id": "5424deb42a8e41668844058dc64acf04",
    "tags": [],
    "deepnote_cell_type": "markdown",
    "deepnote_cell_height": 120.1875
   }
  },
  {
   "cell_type": "markdown",
   "source": "1)  stats.binom_test(x, p=, alternative=\"greater\") : 단측검정\n\n```\np_value = sp.stats.binom_test(sim_increase.simburum_diff.size, colder_days.size, p=0.5, alternative = \"greater\")\nprint(p_value)\n# p_value : 0.9915026737132818 > 0.05 \n```   \n>   \n\n> 결론 : 대립가설 기각\n\n> \n> 한계점 : 이항검정은 사건이 발생할 확률이 50%이상이 될 확률을 검정하는 것으로 이항검정으로는 온도가 낮아짐에 따라 심부름 배달량이 증가한다는 것을 결론 내릴 수 없어 상관관계 분석으로 넘어감",
   "metadata": {
    "cell_id": "320339ea6e834c66ace9c08a9cc28cc7",
    "tags": [],
    "deepnote_cell_type": "markdown",
    "deepnote_cell_height": 644.171875
   }
  },
  {
   "cell_type": "markdown",
   "source": "## 데이터 전처리",
   "metadata": {
    "cell_id": "4bb3872e58ed4977a1311f8a90d2ad0a",
    "tags": [],
    "deepnote_cell_type": "markdown",
    "deepnote_cell_height": 70
   }
  },
  {
   "cell_type": "code",
   "metadata": {
    "cell_id": "48cb1d7f23fc4b50956df0d290dc3241",
    "tags": [],
    "deepnote_to_be_reexecuted": false,
    "source_hash": "d67d5a8c",
    "execution_start": 1649220822179,
    "execution_millis": 2655,
    "deepnote_cell_type": "code",
    "deepnote_cell_height": 297
   },
   "source": "import numpy as np\nimport pandas as pd\n\nimport seaborn as sns\n\nimport matplotlib.pyplot as plt\n\nimport math\nimport scipy as sp\nfrom scipy import stats\n\nimport warnings\nwarnings.filterwarnings(\"ignore\")",
   "execution_count": 1,
   "outputs": []
  },
  {
   "cell_type": "code",
   "metadata": {
    "cell_id": "db8a2bd5547a47d2a4f7da1b90a36c11",
    "tags": [],
    "deepnote_to_be_reexecuted": false,
    "source_hash": "faefa953",
    "execution_start": 1649220824838,
    "execution_millis": 9,
    "deepnote_cell_type": "code",
    "deepnote_cell_height": 117
   },
   "source": "year_list = ['2019', '2020', '2021']\nstart_list = ['08-01', '01-01', '01-01']\nend_list = ['12-31', '12-31', '07-31']",
   "execution_count": 2,
   "outputs": []
  },
  {
   "cell_type": "code",
   "metadata": {
    "cell_id": "58088f17a4b643c3ba22a17e95aaff0e",
    "tags": [],
    "deepnote_to_be_reexecuted": false,
    "source_hash": "3b9b314",
    "execution_start": 1649220824852,
    "execution_millis": 8010,
    "deepnote_cell_type": "code",
    "deepnote_cell_height": 279
   },
   "source": "#상위 디렉토리에서 모듈 가져오기\nimport os,sys,inspect\ncurrentdir = os.path.dirname(os.path.abspath(inspect.getfile(inspect.currentframe())))\nparentdir = os.path.dirname(currentdir)\nsys.path.insert(0,parentdir)\n\nfrom delivery.delivery_data import get_dataframe as get_delivery\n\ndelivery_list = []\n\nfor year, start, end in zip(year_list, start_list, end_list):\n    delivery_list.append(get_delivery(year, start, end, '../delivery/original_data/'))",
   "execution_count": 3,
   "outputs": []
  },
  {
   "cell_type": "code",
   "metadata": {
    "cell_id": "9344c8e8034d463f8c903f421da51e48",
    "tags": [],
    "deepnote_to_be_reexecuted": false,
    "source_hash": "c3211489",
    "execution_start": 1649220832868,
    "execution_millis": 230,
    "deepnote_cell_type": "code",
    "deepnote_cell_height": 405
   },
   "source": "from weather.weather_data import get_dataframe as get_weather\n\nweather_list = []\n\nfor year, start, end in zip(year_list, start_list, end_list):\n    weather_df = get_weather(year, start, end, '../weather/original_data/')\n    del weather_df['cloud']\n    del weather_df['snow']\n    del weather_df['wind']\n\n    # 배달 데이터에서 누락된 행 제거\n    if year == '2020':\n        weather_df = weather_df.drop('05-18')\n    elif year == '2021':\n        missing_values = ['03-27', '03-28', '03-29', '03-30', '03-31', '07-20', '07-21']\n        for missing_value in missing_values:\n            weather_df = weather_df.drop(missing_value)\n\n    weather_list.append(weather_df)",
   "execution_count": 4,
   "outputs": []
  },
  {
   "cell_type": "code",
   "metadata": {
    "cell_id": "b5cc9decb79f42379100381777eab14c",
    "tags": [],
    "deepnote_to_be_reexecuted": false,
    "source_hash": "ab4910cf",
    "execution_start": 1649220833112,
    "execution_millis": 23,
    "deepnote_cell_type": "code",
    "deepnote_cell_height": 261
   },
   "source": "sunny_days, rainy_days = [], []\nwarm_days, hot_days, cold_days = [], [], []\n\nfor weather_df in weather_list:\n    weather_df = weather_df.reset_index()\n    sunny_days.append(weather_df[ weather_df['rain'] < 3.0 ]['date'].tolist())\n    rainy_days.append(weather_df[ weather_df['rain'] >= 3.0 ]['date'].tolist())\n    warm_days.append(weather_df[ (weather_df['temp'] <= 24.0) & (weather_df['temp'] >= 1.2) ]['date'].tolist())\n    hot_days.append(weather_df[ weather_df['temp'] > 24.0 ]['date'].tolist())\n    cold_days.append(weather_df[ weather_df['temp'] < 1.2 ]['date'].tolist())\n    weather_df = weather_df.set_index('date')",
   "execution_count": 5,
   "outputs": []
  },
  {
   "cell_type": "code",
   "metadata": {
    "cell_id": "78fb53f426464dab9d8c0c4dedb7e4db",
    "tags": [],
    "deepnote_to_be_reexecuted": false,
    "source_hash": "59543b0f",
    "execution_start": 1649220834448,
    "execution_millis": 11,
    "deepnote_cell_type": "code",
    "deepnote_cell_height": 315
   },
   "source": "sunny_list, rainy_list = [], []\nwarm_list, hot_list, cold_list = [], [], []\n\nrain_zip = zip(delivery_list, sunny_days, rainy_days)\ntemp_zip = zip(delivery_list, warm_days, hot_days, cold_days)\n\nfor delivery_df, sunny_day, rainy_day in rain_zip:\n    sunny_list.append(delivery_df.loc[sunny_day])\n    rainy_list.append(delivery_df.loc[rainy_day])\n\nfor delivery_df, warm_day, hot_day, cold_day in temp_zip:\n    warm_list.append(delivery_df.loc[warm_day])\n    hot_list.append(delivery_df.loc[hot_day])\n    cold_list.append(delivery_df.loc[cold_day])",
   "execution_count": 6,
   "outputs": []
  },
  {
   "cell_type": "code",
   "metadata": {
    "cell_id": "ff3981310b754a46af7523a52f8e1d1f",
    "tags": [],
    "deepnote_to_be_reexecuted": false,
    "source_hash": "f0943e39",
    "execution_start": 1649220860965,
    "execution_millis": 11,
    "deepnote_cell_type": "code",
    "deepnote_cell_height": 149.390625
   },
   "source": "print(\"전날대비 온도가 낮아진 날: \", colder_days.size)\nprint(\"온도가 내려간 날 중 심부름 배달이 증가한 날: \", sim_increase.simburum_diff.size)",
   "execution_count": 9,
   "outputs": [
    {
     "name": "stdout",
     "text": "전날대비 온도가 낮아진 날:  71\n온도가 내려간 날 중 심부름 배달이 증가한 날:  26\n",
     "output_type": "stream"
    }
   ]
  },
  {
   "cell_type": "code",
   "metadata": {
    "cell_id": "5d74297bb2654b32857b2ff063df0644",
    "tags": [],
    "deepnote_to_be_reexecuted": false,
    "source_hash": "837d817f",
    "execution_start": 1649220879842,
    "execution_millis": 10,
    "deepnote_cell_type": "code",
    "deepnote_cell_height": 129.6875
   },
   "source": "p_value = sp.stats.binom_test(sim_increase.simburum_diff.size, colder_days.size, p=0.5, alternative = \"greater\")\nprint(p_value)",
   "execution_count": 10,
   "outputs": [
    {
     "name": "stdout",
     "text": "0.9915026737132818\n",
     "output_type": "stream"
    }
   ]
  },
  {
   "cell_type": "markdown",
   "source": "2)  stats.binom_test(x, p=, alternative=\"less\") : 단측검정(조건 반전)",
   "metadata": {
    "cell_id": "c527d9b66ef9493fbaeadfcfe2f27e8c",
    "tags": [],
    "deepnote_cell_type": "markdown",
    "deepnote_cell_height": 69.390625
   }
  },
  {
   "cell_type": "code",
   "metadata": {
    "cell_id": "e7241e0846b845228d24427dedc74e1f",
    "tags": [],
    "deepnote_to_be_reexecuted": false,
    "source_hash": "a2a3799c",
    "execution_start": 1649213542724,
    "execution_millis": 402,
    "deepnote_cell_type": "code",
    "deepnote_cell_height": 129.6875
   },
   "source": "p_value = sp.stats.binom_test([colder_days.size, cold_simburum_df.simburum_diff.size], p=0.5, alternative = \"less\")\nprint(p_value)",
   "execution_count": null,
   "outputs": [
    {
     "name": "stdout",
     "text": "0.9999990406303748\n",
     "output_type": "stream"
    }
   ]
  },
  {
   "cell_type": "markdown",
   "source": "<a style='text-decoration:none;line-height:16px;display:flex;color:#5B5B62;padding:10px;justify-content:end;' href='https://deepnote.com?utm_source=created-in-deepnote-cell&projectId=aeda0379-ef07-4599-92da-f5608bf4c48d' target=\"_blank\">\n<img alt='Created in deepnote.com' style='display:inline;max-height:16px;margin:0px;margin-right:7.5px;' src='data:image/svg+xml;base64,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' > </img>\nCreated in <span style='font-weight:600;margin-left:4px;'>Deepnote</span></a>",
   "metadata": {
    "tags": [],
    "created_in_deepnote_cell": true,
    "deepnote_cell_type": "markdown"
   }
  }
 ],
 "nbformat": 4,
 "nbformat_minor": 2,
 "metadata": {
  "orig_nbformat": 2,
  "deepnote": {
   "is_reactive": false
  },
  "deepnote_notebook_id": "918b9a6f-2e53-45fe-96df-ef7459862c3d",
  "deepnote_execution_queue": []
 }
}