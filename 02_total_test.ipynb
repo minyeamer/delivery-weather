{
 "cells": [
  {
   "cell_type": "markdown",
   "metadata": {
    "cell_id": "54f99f7033de44cfab1d3433a8926dad",
    "deepnote_cell_height": 82,
    "deepnote_cell_type": "markdown",
    "tags": []
   },
   "source": [
    "# 분류별/연도별 데이터 검정"
   ]
  },
  {
   "cell_type": "markdown",
   "metadata": {
    "cell_id": "1774e73d797647ad9886f13710aa37c4",
    "deepnote_cell_height": 70,
    "deepnote_cell_type": "markdown",
    "tags": []
   },
   "source": [
    "## 라이브러리 선언"
   ]
  },
  {
   "cell_type": "code",
   "execution_count": 1,
   "metadata": {
    "cell_id": "4c2ab0fe-5399-420d-934d-e3c76cbda203",
    "deepnote_cell_height": 351,
    "deepnote_cell_type": "code",
    "deepnote_to_be_reexecuted": false,
    "execution_millis": 2883,
    "execution_start": 1649066058892,
    "source_hash": "845d1008"
   },
   "outputs": [],
   "source": [
    "import numpy as np\n",
    "import pandas as pd\n",
    "\n",
    "import seaborn as sns\n",
    "\n",
    "import matplotlib.pyplot as plt\n",
    "\n",
    "import scipy as sp\n",
    "from scipy import stats\n",
    "\n",
    "import warnings\n",
    "warnings.filterwarnings(\"ignore\")"
   ]
  },
  {
   "cell_type": "code",
   "execution_count": 2,
   "metadata": {},
   "outputs": [],
   "source": [
    "year_list = ['2019', '2020', '2021']\n",
    "start_list = ['08-01', '01-01', '01-01']\n",
    "end_list = ['12-31', '12-31', '07-31']"
   ]
  },
  {
   "cell_type": "markdown",
   "metadata": {
    "cell_id": "bce9161f8ef44569b73072527fdf574b",
    "deepnote_cell_height": 70,
    "deepnote_cell_type": "markdown",
    "tags": []
   },
   "source": [
    "## 배달 데이터 불러오기"
   ]
  },
  {
   "cell_type": "code",
   "execution_count": 3,
   "metadata": {
    "cell_id": "a67e0865721242fd8b4369314be0480f",
    "deepnote_cell_height": 135,
    "deepnote_cell_type": "code",
    "deepnote_to_be_reexecuted": false,
    "execution_millis": 2721,
    "execution_start": 1649066065538,
    "source_hash": "e5a9c2f9",
    "tags": []
   },
   "outputs": [],
   "source": [
    "from delivery.delivery_data import get_dataframe as get_delivery\n",
    "\n",
    "delivery_list = []\n",
    "\n",
    "for year, start, end in zip(year_list, start_list, end_list):\n",
    "    delivery_list.append(get_delivery(year, start, end, 'delivery/original_data/'))"
   ]
  },
  {
   "cell_type": "code",
   "execution_count": 4,
   "metadata": {
    "cell_id": "dcdf63aa95bd47cd9c883f8045c0885b",
    "deepnote_cell_height": 613,
    "deepnote_cell_type": "code",
    "deepnote_to_be_reexecuted": false,
    "execution_millis": 50,
    "execution_start": 1649056903771,
    "source_hash": "3c888dca",
    "tags": []
   },
   "outputs": [],
   "source": [
    "# delivery_list[2]"
   ]
  },
  {
   "cell_type": "markdown",
   "metadata": {
    "cell_id": "e3b12d3daaa54190a0535d998d0f5797",
    "deepnote_cell_height": 70,
    "deepnote_cell_type": "markdown",
    "tags": []
   },
   "source": [
    "## 날씨 데이터 불러오기"
   ]
  },
  {
   "cell_type": "code",
   "execution_count": 5,
   "metadata": {
    "cell_id": "f51e3f1966734c83ab2f370e3fa62e62",
    "deepnote_cell_height": 189,
    "deepnote_cell_type": "code",
    "deepnote_to_be_reexecuted": false,
    "execution_millis": 53,
    "execution_start": 1649066069154,
    "source_hash": "51507fbd",
    "tags": []
   },
   "outputs": [],
   "source": [
    "from weather.weather_data import get_dataframe as get_weather\n",
    "\n",
    "weather_list = []\n",
    "\n",
    "for year, start, end in zip(year_list, start_list, end_list):\n",
    "    weather_df = get_weather(year, start, end, 'weather/original_data/')\n",
    "    del weather_df['cloud']\n",
    "    del weather_df['snow']\n",
    "    del weather_df['wind']\n",
    "\n",
    "    # 배달 데이터에서 누락된 행 제거\n",
    "    if year == '2020':\n",
    "        weather_df = weather_df.drop('05-18')\n",
    "    elif year == '2021':\n",
    "        missing_values = ['03-27', '03-28', '03-29', '03-30', '03-31', '07-20', '07-21']\n",
    "        for missing_value in missing_values:\n",
    "            weather_df = weather_df.drop(missing_value)\n",
    "\n",
    "    weather_list.append(weather_df)"
   ]
  },
  {
   "cell_type": "code",
   "execution_count": 6,
   "metadata": {
    "cell_id": "c028a1c9e99a4911a599746383992162",
    "deepnote_cell_height": 598,
    "deepnote_cell_type": "code",
    "deepnote_table_invalid": false,
    "deepnote_table_loading": false,
    "deepnote_table_state": {
     "filters": [],
     "pageIndex": 0,
     "pageSize": 10,
     "sortBy": []
    },
    "deepnote_to_be_reexecuted": false,
    "execution_millis": 7,
    "execution_start": 1649058076595,
    "source_hash": "8b7e38d9",
    "tags": []
   },
   "outputs": [],
   "source": [
    "# weather_list[2]"
   ]
  },
  {
   "cell_type": "markdown",
   "metadata": {
    "cell_id": "d84e4d31e0654b4884e29fcc3eb746a6",
    "deepnote_cell_height": 70,
    "deepnote_cell_type": "markdown",
    "tags": []
   },
   "source": [
    "## 검정용 데이터 전처리"
   ]
  },
  {
   "cell_type": "code",
   "execution_count": 25,
   "metadata": {
    "cell_id": "453db313932f49f993fc2f734388d247",
    "deepnote_cell_height": 289.75,
    "deepnote_cell_type": "code",
    "deepnote_output_heights": [
     174.75
    ],
    "deepnote_to_be_reexecuted": false,
    "execution_millis": 5,
    "execution_start": 1648959860836,
    "source_hash": "794b188",
    "tags": []
   },
   "outputs": [],
   "source": [
    "sunny_days, rainy_days = [], []\n",
    "warm_days, hot_days, cold_days = [], [], []\n",
    "\n",
    "for weather_df in weather_list:\n",
    "    weather_df = weather_df.reset_index()\n",
    "    sunny_days.append(weather_df[ weather_df['rain'] < 3.0 ]['date'].tolist())\n",
    "    rainy_days.append(weather_df[ weather_df['rain'] >= 3.0 ]['date'].tolist())\n",
    "    warm_days.append(weather_df[ (weather_df['temp'] <= 24.0) & (weather_df['temp'] >= 1.2) ]['date'].tolist())\n",
    "    hot_days.append(weather_df[ weather_df['temp'] > 24.0 ]['date'].tolist())\n",
    "    cold_days.append(weather_df[ weather_df['temp'] < 1.2 ]['date'].tolist())\n",
    "    weather_df = weather_df.set_index('date')"
   ]
  },
  {
   "cell_type": "code",
   "execution_count": 33,
   "metadata": {},
   "outputs": [],
   "source": [
    "sunny_list, rainy_list = [], []\n",
    "warm_list, hot_list, cold_list = [], [], []\n",
    "\n",
    "rain_zip = zip(delivery_list, sunny_days, rainy_days)\n",
    "temp_zip = zip(delivery_list, warm_days, hot_days, cold_days)\n",
    "\n",
    "for delivery_df, sunny_day, rainy_day in rain_zip:\n",
    "    sunny_list.append(delivery_df.loc[sunny_day])\n",
    "    rainy_list.append(delivery_df.loc[rainy_day])\n",
    "\n",
    "for delivery_df, warm_day, hot_day, cold_day in temp_zip:\n",
    "    warm_list.append(delivery_df.loc[warm_day])\n",
    "    hot_list.append(delivery_df.loc[hot_day])\n",
    "    cold_list.append(delivery_df.loc[cold_day])"
   ]
  },
  {
   "cell_type": "code",
   "execution_count": 29,
   "metadata": {},
   "outputs": [],
   "source": [
    "categories = delivery_list[0].columns.tolist()[1:]"
   ]
  },
  {
   "cell_type": "markdown",
   "metadata": {},
   "source": [
    "## 독립표본 검정 (강수량 차이에 따른 각 분류 별 주문횟수 변화)"
   ]
  },
  {
   "cell_type": "code",
   "execution_count": 58,
   "metadata": {},
   "outputs": [],
   "source": [
    "ind_list = []\n",
    "\n",
    "for sunny_df, rainy_df in zip(sunny_list, rainy_list):\n",
    "\n",
    "    ind_dict = dict()\n",
    "\n",
    "    for categorie in categories:\n",
    "        pvalue = stats.ttest_ind(sunny_df[categorie], rainy_df[categorie])[1]\n",
    "        ind_dict[categorie] = pvalue\n",
    "    \n",
    "    ind_list.append(ind_dict)"
   ]
  },
  {
   "cell_type": "code",
   "execution_count": 59,
   "metadata": {},
   "outputs": [],
   "source": [
    "ind_df = delivery_list[0].copy().reset_index()\n",
    "ind_df = ind_df.drop(range(len(ind_df)))\n",
    "del ind_df['date']\n",
    "del ind_df['sum']\n",
    "\n",
    "for ind_dict, year in zip(ind_list, year_list):\n",
    "    year_df = pd.DataFrame.from_dict(ind_dict, orient='index').T\n",
    "    year_df = year_df.rename(index={0: year})\n",
    "    ind_df = ind_df.append(year_df)"
   ]
  },
  {
   "cell_type": "code",
   "execution_count": 60,
   "metadata": {},
   "outputs": [
    {
     "data": {
      "text/html": [
       "<div>\n",
       "<style scoped>\n",
       "    .dataframe tbody tr th:only-of-type {\n",
       "        vertical-align: middle;\n",
       "    }\n",
       "\n",
       "    .dataframe tbody tr th {\n",
       "        vertical-align: top;\n",
       "    }\n",
       "\n",
       "    .dataframe thead th {\n",
       "        text-align: right;\n",
       "    }\n",
       "</style>\n",
       "<table border=\"1\" class=\"dataframe\">\n",
       "  <thead>\n",
       "    <tr style=\"text-align: right;\">\n",
       "      <th></th>\n",
       "      <th>bossam</th>\n",
       "      <th>bunsik</th>\n",
       "      <th>chicken</th>\n",
       "      <th>cnfood</th>\n",
       "      <th>dessert</th>\n",
       "      <th>dosirak</th>\n",
       "      <th>fastfood</th>\n",
       "      <th>jpfood</th>\n",
       "      <th>krfood</th>\n",
       "      <th>pizza</th>\n",
       "      <th>sashimi</th>\n",
       "      <th>simburum</th>\n",
       "      <th>tang</th>\n",
       "      <th>wsfood</th>\n",
       "    </tr>\n",
       "  </thead>\n",
       "  <tbody>\n",
       "    <tr>\n",
       "      <th>2019</th>\n",
       "      <td>0.770048</td>\n",
       "      <td>0.480129</td>\n",
       "      <td>0.131037</td>\n",
       "      <td>0.659463</td>\n",
       "      <td>0.873215</td>\n",
       "      <td>0.755093</td>\n",
       "      <td>0.087979</td>\n",
       "      <td>0.919241</td>\n",
       "      <td>0.072020</td>\n",
       "      <td>0.754626</td>\n",
       "      <td>0.653096</td>\n",
       "      <td>0.025767</td>\n",
       "      <td>0.531666</td>\n",
       "      <td>0.072906</td>\n",
       "    </tr>\n",
       "    <tr>\n",
       "      <th>2020</th>\n",
       "      <td>0.068991</td>\n",
       "      <td>0.720703</td>\n",
       "      <td>0.199326</td>\n",
       "      <td>0.096771</td>\n",
       "      <td>0.632076</td>\n",
       "      <td>0.010914</td>\n",
       "      <td>0.199161</td>\n",
       "      <td>0.535646</td>\n",
       "      <td>0.099688</td>\n",
       "      <td>0.186300</td>\n",
       "      <td>0.230032</td>\n",
       "      <td>0.193901</td>\n",
       "      <td>0.471677</td>\n",
       "      <td>0.573757</td>\n",
       "    </tr>\n",
       "    <tr>\n",
       "      <th>2021</th>\n",
       "      <td>0.000713</td>\n",
       "      <td>0.000478</td>\n",
       "      <td>0.001295</td>\n",
       "      <td>0.000753</td>\n",
       "      <td>0.002635</td>\n",
       "      <td>0.001172</td>\n",
       "      <td>0.000112</td>\n",
       "      <td>0.009947</td>\n",
       "      <td>0.000490</td>\n",
       "      <td>0.000462</td>\n",
       "      <td>0.000349</td>\n",
       "      <td>0.247992</td>\n",
       "      <td>0.001700</td>\n",
       "      <td>0.000413</td>\n",
       "    </tr>\n",
       "  </tbody>\n",
       "</table>\n",
       "</div>"
      ],
      "text/plain": [
       "        bossam    bunsik   chicken    cnfood   dessert   dosirak  fastfood  \\\n",
       "2019  0.770048  0.480129  0.131037  0.659463  0.873215  0.755093  0.087979   \n",
       "2020  0.068991  0.720703  0.199326  0.096771  0.632076  0.010914  0.199161   \n",
       "2021  0.000713  0.000478  0.001295  0.000753  0.002635  0.001172  0.000112   \n",
       "\n",
       "        jpfood    krfood     pizza   sashimi  simburum      tang    wsfood  \n",
       "2019  0.919241  0.072020  0.754626  0.653096  0.025767  0.531666  0.072906  \n",
       "2020  0.535646  0.099688  0.186300  0.230032  0.193901  0.471677  0.573757  \n",
       "2021  0.009947  0.000490  0.000462  0.000349  0.247992  0.001700  0.000413  "
      ]
     },
     "execution_count": 60,
     "metadata": {},
     "output_type": "execute_result"
    }
   ],
   "source": [
    "# rainy_day와 sunny_day의 독립표본 검정을 각 연도 별로 진행해 정리한 데이터프레임\n",
    "ind_df"
   ]
  },
  {
   "cell_type": "markdown",
   "metadata": {},
   "source": [
    "## 분산분석 (평균온도 차이에 따른 총주문횟수 변화)"
   ]
  },
  {
   "cell_type": "code",
   "execution_count": 113,
   "metadata": {},
   "outputs": [],
   "source": [
    "oneway_dict = dict()\n",
    "\n",
    "temp_df_zip = zip(warm_list, hot_list, cold_list, year_list)\n",
    "\n",
    "for warm_df, hot_df, cold_df, year in temp_df_zip:\n",
    "    anova1 = warm_df['sum'].values\n",
    "    anova2 = hot_df['sum'].values\n",
    "    anova3 = cold_df['sum'].values\n",
    "\n",
    "    oneway_dict[year] = stats.f_oneway(anova1, anova2, anova3)[1]"
   ]
  },
  {
   "cell_type": "code",
   "execution_count": 114,
   "metadata": {},
   "outputs": [
    {
     "data": {
      "text/plain": [
       "{'2019': 0.0007638970009574096,\n",
       " '2020': 0.0007412703696471888,\n",
       " '2021': 3.1123520716174593e-09}"
      ]
     },
     "execution_count": 114,
     "metadata": {},
     "output_type": "execute_result"
    }
   ],
   "source": [
    "oneway_dict"
   ]
  },
  {
   "cell_type": "markdown",
   "metadata": {},
   "source": [
    "## 카이제곱 검정 (연도 별 평균온도 차이에 따른 총주문횟수 변화)"
   ]
  },
  {
   "cell_type": "code",
   "execution_count": 103,
   "metadata": {},
   "outputs": [],
   "source": [
    "contingency_df = pd.DataFrame(columns={'warm', 'hot', 'cold'})\n",
    "\n",
    "temp_df_zip = zip(warm_list, hot_list, cold_list, year_list)\n",
    "\n",
    "for warm_df, hot_df, cold_df, year in temp_df_zip:\n",
    "    warm_mean = np.mean(warm_df['sum']).round(2)\n",
    "    hot_mean = np.mean(hot_df['sum']).round(2)\n",
    "    cold_mean = np.mean(cold_df['sum']).round(2)\n",
    "    temp_dict = {year: {'warm': warm_mean, 'hot': hot_mean, 'cold': cold_mean}}\n",
    "\n",
    "    year_df = pd.DataFrame.from_dict(temp_dict, orient='index')\n",
    "\n",
    "    contingency_df = contingency_df.append(year_df)"
   ]
  },
  {
   "cell_type": "code",
   "execution_count": 109,
   "metadata": {},
   "outputs": [
    {
     "data": {
      "text/html": [
       "<div>\n",
       "<style scoped>\n",
       "    .dataframe tbody tr th:only-of-type {\n",
       "        vertical-align: middle;\n",
       "    }\n",
       "\n",
       "    .dataframe tbody tr th {\n",
       "        vertical-align: top;\n",
       "    }\n",
       "\n",
       "    .dataframe thead th {\n",
       "        text-align: right;\n",
       "    }\n",
       "</style>\n",
       "<table border=\"1\" class=\"dataframe\">\n",
       "  <thead>\n",
       "    <tr style=\"text-align: right;\">\n",
       "      <th></th>\n",
       "      <th>warm</th>\n",
       "      <th>cold</th>\n",
       "      <th>hot</th>\n",
       "    </tr>\n",
       "  </thead>\n",
       "  <tbody>\n",
       "    <tr>\n",
       "      <th>2019</th>\n",
       "      <td>5301.12</td>\n",
       "      <td>5359.94</td>\n",
       "      <td>4314.7</td>\n",
       "    </tr>\n",
       "    <tr>\n",
       "      <th>2020</th>\n",
       "      <td>5808.78</td>\n",
       "      <td>6810.78</td>\n",
       "      <td>5889.81</td>\n",
       "    </tr>\n",
       "    <tr>\n",
       "      <th>2021</th>\n",
       "      <td>3609.78</td>\n",
       "      <td>5857.69</td>\n",
       "      <td>2792.89</td>\n",
       "    </tr>\n",
       "  </tbody>\n",
       "</table>\n",
       "</div>"
      ],
      "text/plain": [
       "         warm     cold      hot\n",
       "2019  5301.12  5359.94   4314.7\n",
       "2020  5808.78  6810.78  5889.81\n",
       "2021  3609.78  5857.69  2792.89"
      ]
     },
     "execution_count": 109,
     "metadata": {},
     "output_type": "execute_result"
    }
   ],
   "source": [
    "contingency_df"
   ]
  },
  {
   "cell_type": "code",
   "execution_count": 111,
   "metadata": {},
   "outputs": [
    {
     "data": {
      "text/plain": [
       "5.268166934237604e-62"
      ]
     },
     "execution_count": 111,
     "metadata": {},
     "output_type": "execute_result"
    }
   ],
   "source": [
    "stats.chi2_contingency([contingency_df['warm'], contingency_df['cold']])[1]"
   ]
  },
  {
   "cell_type": "markdown",
   "metadata": {},
   "source": [
    "## 테스트 코드"
   ]
  },
  {
   "cell_type": "code",
   "execution_count": null,
   "metadata": {
    "cell_id": "29e9c1d688be43a3bf7c74874dc0e2af",
    "deepnote_cell_height": 257,
    "deepnote_cell_type": "code",
    "deepnote_to_be_reexecuted": false,
    "execution_millis": 49,
    "execution_start": 1648962148628,
    "source_hash": "a52eccc0",
    "tags": []
   },
   "outputs": [
    {
     "data": {
      "text/html": [
       "<div>\n",
       "<style scoped>\n",
       "    .dataframe tbody tr th:only-of-type {\n",
       "        vertical-align: middle;\n",
       "    }\n",
       "\n",
       "    .dataframe tbody tr th {\n",
       "        vertical-align: top;\n",
       "    }\n",
       "\n",
       "    .dataframe thead th {\n",
       "        text-align: right;\n",
       "    }\n",
       "</style>\n",
       "<table border=\"1\" class=\"dataframe\">\n",
       "  <thead>\n",
       "    <tr style=\"text-align: right;\">\n",
       "      <th></th>\n",
       "      <th>sum</th>\n",
       "      <th>bossam</th>\n",
       "      <th>bunsik</th>\n",
       "      <th>chicken</th>\n",
       "      <th>cnfood</th>\n",
       "      <th>dessert</th>\n",
       "      <th>dosirak</th>\n",
       "      <th>fastfood</th>\n",
       "      <th>jpfood</th>\n",
       "      <th>krfood</th>\n",
       "      <th>pizza</th>\n",
       "      <th>sashimi</th>\n",
       "      <th>simburum</th>\n",
       "      <th>tang</th>\n",
       "      <th>wsfood</th>\n",
       "    </tr>\n",
       "  </thead>\n",
       "  <tbody>\n",
       "  </tbody>\n",
       "</table>\n",
       "</div>"
      ],
      "text/plain": [
       "Empty DataFrame\n",
       "Columns: [sum, bossam, bunsik, chicken, cnfood, dessert, dosirak, fastfood, jpfood, krfood, pizza, sashimi, simburum, tang, wsfood]\n",
       "Index: []"
      ]
     },
     "metadata": {},
     "output_type": "display_data"
    }
   ],
   "source": [
    "delivery_test = delivery_list[0].copy()\n",
    "delivery_test = delivery_test.drop(range(len(delivery_test)))\n",
    "del delivery_test['date']\n",
    "delivery_test"
   ]
  },
  {
   "cell_type": "code",
   "execution_count": null,
   "metadata": {
    "cell_id": "63bd745718014fd7877a548ad9415d9a",
    "deepnote_cell_height": 262,
    "deepnote_cell_type": "code",
    "deepnote_to_be_reexecuted": false,
    "execution_millis": 6,
    "execution_start": 1648962150781,
    "source_hash": "1e98e36d",
    "tags": []
   },
   "outputs": [],
   "source": [
    "# delivery_test = delivery_test.append(delivery[ delivery['date'].isin(rainy_day) ].mean().round().rename('rainy'))\n",
    "# delivery_test"
   ]
  },
  {
   "cell_type": "code",
   "execution_count": null,
   "metadata": {
    "cell_id": "091ac5ef4b9846b58d3e44103653fb47",
    "deepnote_cell_height": 303,
    "deepnote_cell_type": "code",
    "deepnote_to_be_reexecuted": false,
    "execution_millis": 7,
    "execution_start": 1648962153317,
    "source_hash": "79bc2df2",
    "tags": []
   },
   "outputs": [],
   "source": [
    "# test = test.append(delivery[ ~(delivery['date'].isin(rainy_day)) ].mean().round().rename('sunny'))\n",
    "# test"
   ]
  },
  {
   "cell_type": "code",
   "execution_count": null,
   "metadata": {
    "cell_id": "b8cc94dca4104a2d8ec710c3a7b9c371",
    "deepnote_cell_height": 66,
    "deepnote_cell_type": "code",
    "tags": []
   },
   "outputs": [],
   "source": [
    "rainy_chicken = rainy_df['chicken'].tolist()\n",
    "sunny_chicken = sunny_df.loc[range(len(rainy_df))]['chicken'].tolist()\n",
    "\n",
    "chicken_df = pd.DataFrame({'rainy':rainy_chicken, 'sunny':sunny_chicken})"
   ]
  },
  {
   "cell_type": "code",
   "execution_count": null,
   "metadata": {},
   "outputs": [
    {
     "data": {
      "text/plain": [
       "<AxesSubplot:xlabel='chicken'>"
      ]
     },
     "metadata": {},
     "output_type": "display_data"
    },
    {
     "data": {
      "image/png": "[encoded data removed]",
      "text/plain": [
       "<Figure size 432x288 with 1 Axes>"
      ]
     },
     "metadata": {},
     "output_type": "display_data"
    }
   ],
   "source": [
    "sns.distplot(rainy_df['chicken'], kde=False, fit=stats.norm,\n",
    "            hist_kws={'color': 'r', 'alpha': 0.2}, fit_kws={'color': 'r'})\n",
    "\n",
    "sns.distplot(sunny_df['chicken'], kde=False, fit=stats.norm, \n",
    "             hist_kws={'color': 'g', 'alpha': 0.2}, fit_kws={'color': 'g'})"
   ]
  },
  {
   "cell_type": "code",
   "execution_count": null,
   "metadata": {},
   "outputs": [
    {
     "data": {
      "text/plain": [
       "F_onewayResult(statistic=6.882339385540798, pvalue=0.0013814227517537291)"
      ]
     },
     "metadata": {},
     "output_type": "display_data"
    }
   ],
   "source": [
    "anova1 = warm_df['chicken'].values\n",
    "anova2 = hot_df['chicken'].values\n",
    "anova3 = cold_df['chicken'].values\n",
    "stats.f_oneway(anova1, anova2, anova3)"
   ]
  },
  {
   "cell_type": "code",
   "execution_count": null,
   "metadata": {},
   "outputs": [
    {
     "data": {
      "text/plain": [
       "<AxesSubplot:>"
      ]
     },
     "metadata": {},
     "output_type": "display_data"
    },
    {
     "data": {
      "image/png": "[encoded data removed]",
      "text/plain": [
       "<Figure size 432x288 with 1 Axes>"
      ]
     },
     "metadata": {},
     "output_type": "display_data"
    }
   ],
   "source": [
    "sns.distplot(anova1, kde=False, fit=sp.stats.norm, hist_kws={'color': 'r', 'alpha': 0.2}, fit_kws={'color': 'r'})\n",
    "sns.distplot(anova2, kde=False, fit=sp.stats.norm, hist_kws={'color': 'g', 'alpha': 0.2}, fit_kws={'color': 'g'})\n",
    "sns.distplot(anova3, kde=False, fit=sp.stats.norm, hist_kws={'color': 'b', 'alpha': 0.2}, fit_kws={'color': 'b'})"
   ]
  }
 ],
 "metadata": {
  "interpreter": {
   "hash": "b0fa6594d8f4cbf19f97940f81e996739fb7646882a419484c72d19e05852a7e"
  },
  "kernelspec": {
   "display_name": "Python 3.9.10 64-bit",
   "language": "python",
   "name": "python3"
  },
  "language_info": {
   "codemirror_mode": {
    "name": "ipython",
    "version": 3
   },
   "file_extension": ".py",
   "mimetype": "text/x-python",
   "name": "python",
   "nbconvert_exporter": "python",
   "pygments_lexer": "ipython3",
   "version": "3.9.10"
  },
  "orig_nbformat": 4
 },
 "nbformat": 4,
 "nbformat_minor": 2
}
