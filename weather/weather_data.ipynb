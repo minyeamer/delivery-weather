{
 "cells": [
  {
   "cell_type": "markdown",
   "metadata": {
    "cell_id": "1d263339495246169cce6b210c9fdb93",
    "deepnote_cell_height": 82,
    "deepnote_cell_type": "markdown",
    "tags": []
   },
   "source": [
    "# 데이터 전처리"
   ]
  },
  {
   "cell_type": "markdown",
   "metadata": {
    "cell_id": "5fdfacdcc2e4437c8e344be44dedd621",
    "deepnote_cell_height": 70,
    "deepnote_cell_type": "markdown",
    "tags": []
   },
   "source": [
    "## 라이브러리 선언"
   ]
  },
  {
   "cell_type": "code",
   "execution_count": 1,
   "metadata": {
    "cell_id": "db18a753-3424-4d18-9747-271e36e51ac9",
    "deepnote_cell_height": 99,
    "deepnote_cell_type": "code",
    "deepnote_to_be_reexecuted": false,
    "execution_millis": 0,
    "execution_start": 1648950677336,
    "source_hash": "b7dcc9c8",
    "tags": []
   },
   "outputs": [],
   "source": [
    "import numpy as np\n",
    "import pandas as pd"
   ]
  },
  {
   "cell_type": "markdown",
   "metadata": {
    "cell_id": "02d33295d55544c2b0ebe9f8df1934d0",
    "deepnote_cell_height": 70,
    "deepnote_cell_type": "markdown",
    "tags": []
   },
   "source": [
    "## 함수 선언"
   ]
  },
  {
   "cell_type": "code",
   "execution_count": 2,
   "metadata": {
    "cell_id": "39898d738c514ca39d39ac3c53ad4c07",
    "deepnote_cell_height": 423,
    "deepnote_cell_type": "code",
    "deepnote_to_be_reexecuted": false,
    "execution_millis": 1,
    "execution_start": 1648950759627,
    "source_hash": "a729709",
    "tags": []
   },
   "outputs": [],
   "source": [
    "def clean_up_data(origin_df: pd.DataFrame, start_date=None, end_date=None) -> pd.DataFrame:\n",
    "    \"\"\"\n",
    "    원본 데이터프레임에서 불필요한 행과 열을 제거하는 함수\n",
    "    origin_df: 원본 데이터프레임\n",
    "    start_date: 맨 윗 열의 '일자' 인덱스 (MM-DD)\n",
    "    end_date: 맨 아랫 열의 '일자' 인덱스 (MM-DD)\n",
    "    weather_df: 원본 데이터프레임에서 전처리된 데이터프레임, 함수 반환값\n",
    "    \"\"\"\n",
    "    \n",
    "    weather_df = origin_df.copy()\n",
    "\n",
    "    del weather_df['지점']\n",
    "    del weather_df['지점명']\n",
    "    weather_df = weather_df.fillna(0.0)\n",
    "\n",
    "    weather_df = detach_year(weather_df)\n",
    "\n",
    "    weather_df = weather_df.set_index('일자')\n",
    "    \n",
    "    return weather_df.loc[start_date : end_date]"
   ]
  },
  {
   "cell_type": "code",
   "execution_count": 3,
   "metadata": {
    "cell_id": "8585ce6ab72f4032b1cb37980f6824a4",
    "deepnote_cell_height": 315,
    "deepnote_cell_type": "code",
    "deepnote_to_be_reexecuted": false,
    "execution_millis": 9,
    "execution_start": 1648950680249,
    "source_hash": "db91040",
    "tags": []
   },
   "outputs": [],
   "source": [
    "def detach_year(origin_df: pd.DataFrame) -> pd.DataFrame:\n",
    "    \"\"\"\n",
    "    원본 데이터프레임의 '일자' 열에 속한 데이터에서 연도와 월일을 분리\n",
    "    origin_df: 원본 데이터프레임 (한글)\n",
    "    detached_df: 원본 데이터프레임의 사본 (원본 데이터프레임 변형 방지 목적), 함수 반환값\n",
    "    \"\"\"\n",
    "\n",
    "    detached_df = origin_df.copy()\n",
    "\n",
    "    for row in detached_df.iterrows():\n",
    "        date = row[1]['일자']\n",
    "        detached_df.at[row[0], '일자'] = date[5:]\n",
    "\n",
    "    return detached_df"
   ]
  },
  {
   "cell_type": "code",
   "execution_count": 4,
   "metadata": {
    "cell_id": "bfa711ecbc42469e854eab1c25be4e42",
    "deepnote_cell_height": 315,
    "deepnote_cell_type": "code",
    "deepnote_to_be_reexecuted": false,
    "execution_millis": 2,
    "execution_start": 1648950680955,
    "source_hash": "9bdc4de5",
    "tags": []
   },
   "outputs": [],
   "source": [
    "def detach_month(origin_df: pd.DataFrame) -> pd.DataFrame:\n",
    "    \"\"\"\n",
    "    원본 데이터프레임의 '일자' 열에 속한 데이터에서 월과 일을 분리\n",
    "    origin_df: 원본 데이터프레임 (영문)\n",
    "    detached_df: 원본 데이터프레임의 사본 (원본 데이터프레임 변형 방지 목적), 함수 반환값\n",
    "    \"\"\"\n",
    "\n",
    "    detached_df = origin_df.copy()\n",
    "\n",
    "    for row in detached_df.iterrows():\n",
    "        date = row[1]['date']\n",
    "        detached_df.at[row[0], 'date'] = date[-2:]\n",
    "\n",
    "    return detached_df"
   ]
  },
  {
   "cell_type": "code",
   "execution_count": 5,
   "metadata": {
    "cell_id": "7d343e023ff3421aad548a6d1d9f0449",
    "deepnote_cell_height": 531,
    "deepnote_cell_type": "code",
    "deepnote_to_be_reexecuted": false,
    "execution_millis": 0,
    "execution_start": 1648952479037,
    "source_hash": "c17fb533",
    "tags": []
   },
   "outputs": [],
   "source": [
    "def rename_kor_to_eng(origin_df: pd.DataFrame) -> pd.DataFrame:\n",
    "    \"\"\"\n",
    "    한글로 된 열 이름을 영어로 변환하는 함수\n",
    "    origin_df: 원본 데이터프레임\n",
    "    renamed_df: 원본 데이터프레임의 사본 (원본 데이터프레임 변형 방지 목적), 함수 반환값\n",
    "    en_dictionary: 한영 변환할 때 문자열을 매칭시키기 위해 사용하는 딕셔너리\n",
    "    en_categories: 영어로 변환된 열 이름을 정렬하기 위해 사용하는 리스트\n",
    "    \"\"\"\n",
    "\n",
    "    renamed_df = origin_df.copy()\n",
    "\n",
    "    en_dictionary = dict()\n",
    "    en_dictionary['평균기온'] = 'temp'\n",
    "    en_dictionary['강수량'] = 'rain'\n",
    "    en_dictionary['평균풍속'] = 'wind'\n",
    "    en_dictionary['최심신적설'] = 'snow'\n",
    "    en_dictionary['평균전운량'] = 'cloud'\n",
    "\n",
    "    renamed_df.rename(columns=en_dictionary, inplace=True)\n",
    "    renamed_df.index.name = 'date'\n",
    "\n",
    "    en_categories = list(en_dictionary.values())\n",
    "    en_categories = [en_categories[0]] + sorted(en_categories[1:])\n",
    "    renamed_df = renamed_df.reindex(columns=en_categories)\n",
    "\n",
    "    return renamed_df"
   ]
  },
  {
   "cell_type": "markdown",
   "metadata": {
    "cell_id": "c1982458f3e24e92a647925550924013",
    "deepnote_cell_height": 70,
    "deepnote_cell_type": "markdown",
    "tags": []
   },
   "source": [
    "## 데이터 전처리"
   ]
  },
  {
   "cell_type": "code",
   "execution_count": 22,
   "metadata": {},
   "outputs": [],
   "source": [
    "year = input()"
   ]
  },
  {
   "cell_type": "code",
   "execution_count": 23,
   "metadata": {},
   "outputs": [],
   "source": [
    "original_weather = pd.read_csv(f'original_data/WEATHER_{year}.csv', encoding='utf-8')"
   ]
  },
  {
   "cell_type": "code",
   "execution_count": 24,
   "metadata": {
    "cell_id": "8bb80c78c8834146ab6d02b3c2b49a6e",
    "deepnote_cell_height": 153,
    "deepnote_cell_type": "code",
    "deepnote_to_be_reexecuted": false,
    "execution_millis": 67,
    "execution_start": 1648952481667,
    "source_hash": "97b9cf73",
    "tags": []
   },
   "outputs": [],
   "source": [
    "weather = clean_up_data(original_weather)"
   ]
  },
  {
   "cell_type": "code",
   "execution_count": 25,
   "metadata": {},
   "outputs": [],
   "source": [
    "weather_en = rename_kor_to_eng(weather)"
   ]
  },
  {
   "cell_type": "code",
   "execution_count": 26,
   "metadata": {
    "cell_id": "25004a75b372432baabad420e78f6dfe",
    "deepnote_cell_height": 616,
    "deepnote_cell_type": "code",
    "deepnote_to_be_reexecuted": false,
    "execution_millis": 50,
    "execution_start": 1648952505148,
    "source_hash": "24ab0c9c",
    "tags": []
   },
   "outputs": [
    {
     "data": {
      "text/html": [
       "<div>\n",
       "<style scoped>\n",
       "    .dataframe tbody tr th:only-of-type {\n",
       "        vertical-align: middle;\n",
       "    }\n",
       "\n",
       "    .dataframe tbody tr th {\n",
       "        vertical-align: top;\n",
       "    }\n",
       "\n",
       "    .dataframe thead th {\n",
       "        text-align: right;\n",
       "    }\n",
       "</style>\n",
       "<table border=\"1\" class=\"dataframe\">\n",
       "  <thead>\n",
       "    <tr style=\"text-align: right;\">\n",
       "      <th></th>\n",
       "      <th>temp</th>\n",
       "      <th>cloud</th>\n",
       "      <th>rain</th>\n",
       "      <th>snow</th>\n",
       "      <th>wind</th>\n",
       "    </tr>\n",
       "    <tr>\n",
       "      <th>date</th>\n",
       "      <th></th>\n",
       "      <th></th>\n",
       "      <th></th>\n",
       "      <th></th>\n",
       "      <th></th>\n",
       "    </tr>\n",
       "  </thead>\n",
       "  <tbody>\n",
       "    <tr>\n",
       "      <th>01-01</th>\n",
       "      <td>-4.2</td>\n",
       "      <td>3.9</td>\n",
       "      <td>0.0</td>\n",
       "      <td>0.0</td>\n",
       "      <td>2.0</td>\n",
       "    </tr>\n",
       "    <tr>\n",
       "      <th>01-02</th>\n",
       "      <td>-5.0</td>\n",
       "      <td>0.0</td>\n",
       "      <td>0.0</td>\n",
       "      <td>0.0</td>\n",
       "      <td>2.6</td>\n",
       "    </tr>\n",
       "    <tr>\n",
       "      <th>01-03</th>\n",
       "      <td>-5.6</td>\n",
       "      <td>2.9</td>\n",
       "      <td>0.0</td>\n",
       "      <td>0.0</td>\n",
       "      <td>2.0</td>\n",
       "    </tr>\n",
       "    <tr>\n",
       "      <th>01-04</th>\n",
       "      <td>-3.5</td>\n",
       "      <td>4.8</td>\n",
       "      <td>0.0</td>\n",
       "      <td>0.0</td>\n",
       "      <td>1.7</td>\n",
       "    </tr>\n",
       "    <tr>\n",
       "      <th>01-05</th>\n",
       "      <td>-5.5</td>\n",
       "      <td>2.6</td>\n",
       "      <td>0.0</td>\n",
       "      <td>0.0</td>\n",
       "      <td>2.9</td>\n",
       "    </tr>\n",
       "    <tr>\n",
       "      <th>...</th>\n",
       "      <td>...</td>\n",
       "      <td>...</td>\n",
       "      <td>...</td>\n",
       "      <td>...</td>\n",
       "      <td>...</td>\n",
       "    </tr>\n",
       "    <tr>\n",
       "      <th>12-27</th>\n",
       "      <td>-7.6</td>\n",
       "      <td>3.1</td>\n",
       "      <td>0.0</td>\n",
       "      <td>0.0</td>\n",
       "      <td>1.7</td>\n",
       "    </tr>\n",
       "    <tr>\n",
       "      <th>12-28</th>\n",
       "      <td>-4.1</td>\n",
       "      <td>4.1</td>\n",
       "      <td>0.0</td>\n",
       "      <td>0.0</td>\n",
       "      <td>2.2</td>\n",
       "    </tr>\n",
       "    <tr>\n",
       "      <th>12-29</th>\n",
       "      <td>0.4</td>\n",
       "      <td>5.1</td>\n",
       "      <td>0.2</td>\n",
       "      <td>0.3</td>\n",
       "      <td>2.6</td>\n",
       "    </tr>\n",
       "    <tr>\n",
       "      <th>12-30</th>\n",
       "      <td>-3.9</td>\n",
       "      <td>2.0</td>\n",
       "      <td>0.0</td>\n",
       "      <td>0.0</td>\n",
       "      <td>3.3</td>\n",
       "    </tr>\n",
       "    <tr>\n",
       "      <th>12-31</th>\n",
       "      <td>-6.7</td>\n",
       "      <td>0.0</td>\n",
       "      <td>0.0</td>\n",
       "      <td>0.0</td>\n",
       "      <td>3.5</td>\n",
       "    </tr>\n",
       "  </tbody>\n",
       "</table>\n",
       "<p>365 rows × 5 columns</p>\n",
       "</div>"
      ],
      "text/plain": [
       "       temp  cloud  rain  snow  wind\n",
       "date                                \n",
       "01-01  -4.2    3.9   0.0   0.0   2.0\n",
       "01-02  -5.0    0.0   0.0   0.0   2.6\n",
       "01-03  -5.6    2.9   0.0   0.0   2.0\n",
       "01-04  -3.5    4.8   0.0   0.0   1.7\n",
       "01-05  -5.5    2.6   0.0   0.0   2.9\n",
       "...     ...    ...   ...   ...   ...\n",
       "12-27  -7.6    3.1   0.0   0.0   1.7\n",
       "12-28  -4.1    4.1   0.0   0.0   2.2\n",
       "12-29   0.4    5.1   0.2   0.3   2.6\n",
       "12-30  -3.9    2.0   0.0   0.0   3.3\n",
       "12-31  -6.7    0.0   0.0   0.0   3.5\n",
       "\n",
       "[365 rows x 5 columns]"
      ]
     },
     "execution_count": 26,
     "metadata": {},
     "output_type": "execute_result"
    }
   ],
   "source": [
    "weather_en.to_csv(f'weather_{year}.csv')\n",
    "weather_en"
   ]
  },
  {
   "cell_type": "markdown",
   "metadata": {
    "cell_id": "4a85b1391efe4e398ce1b8e123def8ac",
    "deepnote_cell_height": 70,
    "deepnote_cell_type": "markdown",
    "tags": []
   },
   "source": [
    "## 테스트 코드"
   ]
  },
  {
   "cell_type": "code",
   "execution_count": null,
   "metadata": {
    "cell_id": "b8fb2c0bfa684abe88007fb3bca1ee6e",
    "deepnote_cell_height": 351,
    "deepnote_cell_type": "code",
    "deepnote_to_be_reexecuted": false,
    "execution_millis": 1,
    "execution_start": 1648797089313,
    "source_hash": "909f0d1a",
    "tags": []
   },
   "outputs": [],
   "source": [
    "def score_weather(df_weather: pd.DataFrame) -> None:    \n",
    "    for row in df_weather.iterrows():\n",
    "        index = row[0]\n",
    "        row = row[1]\n",
    "\n",
    "        if row['최심신적설'] > 0.0:\n",
    "            df_weather.at[index, '날씨기준'] = 4\n",
    "        elif row['강수량'] >= 3.0:\n",
    "            df_weather.at[index, '날씨기준'] = 3\n",
    "        elif row['평균전운량'] >= 6.0:\n",
    "            df_weather.at[index, '날씨기준'] = 2\n",
    "        else:\n",
    "            df_weather.at[index, '날씨기준'] = 1\n",
    "    \n",
    "    print('날씨기준이 설정되었습니다.')\n",
    "        "
   ]
  },
  {
   "cell_type": "code",
   "execution_count": null,
   "metadata": {
    "cell_id": "1586696312e542cba064d483421dcbaa",
    "deepnote_cell_height": 112.1875,
    "deepnote_cell_type": "code",
    "deepnote_to_be_reexecuted": false,
    "execution_millis": 37,
    "execution_start": 1648797099359,
    "source_hash": "69261559",
    "tags": []
   },
   "outputs": [
    {
     "name": "stdout",
     "output_type": "stream",
     "text": [
      "날씨기준이 설정되었습니다.\n"
     ]
    }
   ],
   "source": [
    "score_weather(weather)"
   ]
  },
  {
   "cell_type": "code",
   "execution_count": null,
   "metadata": {
    "cell_id": "1969e713f03a4cf6ad0e2fc187d753ec",
    "deepnote_cell_height": 598,
    "deepnote_cell_type": "code",
    "deepnote_table_loading": false,
    "deepnote_table_state": {
     "filters": [],
     "pageIndex": 20,
     "pageSize": 10,
     "sortBy": []
    },
    "deepnote_to_be_reexecuted": false,
    "execution_millis": 60,
    "execution_start": 1648742452442,
    "source_hash": "951a9862",
    "tags": []
   },
   "outputs": [
    {
     "data": {
      "application/vnd.deepnote.dataframe.v3+json": {
       "column_count": 6,
       "columns": [
        {
         "dtype": "float64",
         "name": "평균기온",
         "stats": {
          "histogram": [
           {
            "bin_end": -3.95,
            "bin_start": -7.9,
            "count": 3
           },
           {
            "bin_end": 0,
            "bin_start": -3.95,
            "count": 8
           },
           {
            "bin_end": 3.950000000000001,
            "bin_start": 0,
            "count": 20
           },
           {
            "bin_end": 7.9,
            "bin_start": 3.950000000000001,
            "count": 14
           },
           {
            "bin_end": 11.85,
            "bin_start": 7.9,
            "count": 13
           },
           {
            "bin_end": 15.800000000000002,
            "bin_start": 11.85,
            "count": 20
           },
           {
            "bin_end": 19.75,
            "bin_start": 15.800000000000002,
            "count": 36
           },
           {
            "bin_end": 23.700000000000003,
            "bin_start": 19.75,
            "count": 55
           },
           {
            "bin_end": 27.650000000000006,
            "bin_start": 23.700000000000003,
            "count": 58
           },
           {
            "bin_end": 31.6,
            "bin_start": 27.650000000000006,
            "count": 18
           }
          ],
          "max": "31.6",
          "min": "-7.9",
          "nan_count": 0,
          "unique_count": 158
         }
        },
        {
         "dtype": "float64",
         "name": "강수량",
         "stats": {
          "histogram": [
           {
            "bin_end": 6.32,
            "bin_start": 0,
            "count": 211
           },
           {
            "bin_end": 12.64,
            "bin_start": 6.32,
            "count": 15
           },
           {
            "bin_end": 18.96,
            "bin_start": 12.64,
            "count": 4
           },
           {
            "bin_end": 25.28,
            "bin_start": 18.96,
            "count": 5
           },
           {
            "bin_end": 31.6,
            "bin_start": 25.28,
            "count": 3
           },
           {
            "bin_end": 37.92,
            "bin_start": 31.6,
            "count": 3
           },
           {
            "bin_end": 44.24,
            "bin_start": 37.92,
            "count": 0
           },
           {
            "bin_end": 50.56,
            "bin_start": 44.24,
            "count": 0
           },
           {
            "bin_end": 56.88,
            "bin_start": 50.56,
            "count": 1
           },
           {
            "bin_end": 63.2,
            "bin_start": 56.88,
            "count": 3
           }
          ],
          "max": "63.2",
          "min": "0.0",
          "nan_count": 0,
          "unique_count": 60
         }
        },
        {
         "dtype": "float64",
         "name": "평균풍속",
         "stats": {
          "histogram": [
           {
            "bin_end": 1.5,
            "bin_start": 1,
            "count": 38
           },
           {
            "bin_end": 2,
            "bin_start": 1.5,
            "count": 100
           },
           {
            "bin_end": 2.5,
            "bin_start": 2,
            "count": 66
           },
           {
            "bin_end": 3,
            "bin_start": 2.5,
            "count": 26
           },
           {
            "bin_end": 3.5,
            "bin_start": 3,
            "count": 11
           },
           {
            "bin_end": 4,
            "bin_start": 3.5,
            "count": 3
           },
           {
            "bin_end": 4.5,
            "bin_start": 4,
            "count": 0
           },
           {
            "bin_end": 5,
            "bin_start": 4.5,
            "count": 0
           },
           {
            "bin_end": 5.5,
            "bin_start": 5,
            "count": 0
           },
           {
            "bin_end": 6,
            "bin_start": 5.5,
            "count": 1
           }
          ],
          "max": "6.0",
          "min": "1.0",
          "nan_count": 0,
          "unique_count": 28
         }
        },
        {
         "dtype": "float64",
         "name": "최심신적설",
         "stats": {
          "histogram": [
           {
            "bin_end": -0.4,
            "bin_start": -0.5,
            "count": 0
           },
           {
            "bin_end": -0.3,
            "bin_start": -0.4,
            "count": 0
           },
           {
            "bin_end": -0.19999999999999996,
            "bin_start": -0.3,
            "count": 0
           },
           {
            "bin_end": -0.09999999999999998,
            "bin_start": -0.19999999999999996,
            "count": 0
           },
           {
            "bin_end": 0,
            "bin_start": -0.09999999999999998,
            "count": 0
           },
           {
            "bin_end": 0.10000000000000009,
            "bin_start": 0,
            "count": 245
           },
           {
            "bin_end": 0.20000000000000007,
            "bin_start": 0.10000000000000009,
            "count": 0
           },
           {
            "bin_end": 0.30000000000000004,
            "bin_start": 0.20000000000000007,
            "count": 0
           },
           {
            "bin_end": 0.4,
            "bin_start": 0.30000000000000004,
            "count": 0
           },
           {
            "bin_end": 0.5,
            "bin_start": 0.4,
            "count": 0
           }
          ],
          "max": "0.0",
          "min": "0.0",
          "nan_count": 0,
          "unique_count": 1
         }
        },
        {
         "dtype": "float64",
         "name": "평균전운량",
         "stats": {
          "histogram": [
           {
            "bin_end": 1,
            "bin_start": 0,
            "count": 28
           },
           {
            "bin_end": 2,
            "bin_start": 1,
            "count": 23
           },
           {
            "bin_end": 3,
            "bin_start": 2,
            "count": 15
           },
           {
            "bin_end": 4,
            "bin_start": 3,
            "count": 24
           },
           {
            "bin_end": 5,
            "bin_start": 4,
            "count": 23
           },
           {
            "bin_end": 6,
            "bin_start": 5,
            "count": 22
           },
           {
            "bin_end": 7,
            "bin_start": 6,
            "count": 30
           },
           {
            "bin_end": 8,
            "bin_start": 7,
            "count": 21
           },
           {
            "bin_end": 9,
            "bin_start": 8,
            "count": 27
           },
           {
            "bin_end": 10,
            "bin_start": 9,
            "count": 32
           }
          ],
          "max": "10.0",
          "min": "0.0",
          "nan_count": 0,
          "unique_count": 74
         }
        },
        {
         "dtype": "int64",
         "name": "날씨기준",
         "stats": {
          "histogram": [
           {
            "bin_end": 1.2,
            "bin_start": 1,
            "count": 131
           },
           {
            "bin_end": 1.4,
            "bin_start": 1.2,
            "count": 0
           },
           {
            "bin_end": 1.6,
            "bin_start": 1.4,
            "count": 0
           },
           {
            "bin_end": 1.8,
            "bin_start": 1.6,
            "count": 0
           },
           {
            "bin_end": 2,
            "bin_start": 1.8,
            "count": 0
           },
           {
            "bin_end": 2.2,
            "bin_start": 2,
            "count": 73
           },
           {
            "bin_end": 2.4000000000000004,
            "bin_start": 2.2,
            "count": 0
           },
           {
            "bin_end": 2.6,
            "bin_start": 2.4000000000000004,
            "count": 0
           },
           {
            "bin_end": 2.8,
            "bin_start": 2.6,
            "count": 0
           },
           {
            "bin_end": 3,
            "bin_start": 2.8,
            "count": 41
           }
          ],
          "max": "3",
          "min": "1",
          "nan_count": 0,
          "unique_count": 3
         }
        },
        {
         "dtype": "object",
         "name": "_deepnote_index_column"
        }
       ],
       "row_count": 245,
       "rows": [
        {
         "_deepnote_index_column": "2019-11-17",
         "강수량": 21.1,
         "날씨기준": 3,
         "최심신적설": 0,
         "평균기온": 8.3,
         "평균전운량": 9.3,
         "평균풍속": 3.1
        },
        {
         "_deepnote_index_column": "2019-11-18",
         "강수량": 14.7,
         "날씨기준": 3,
         "최심신적설": 0,
         "평균기온": 4.6,
         "평균전운량": 7.1,
         "평균풍속": 3.9
        },
        {
         "_deepnote_index_column": "2019-11-19",
         "강수량": 0,
         "날씨기준": 1,
         "최심신적설": 0,
         "평균기온": 0.2,
         "평균전운량": 1.4,
         "평균풍속": 2.8
        },
        {
         "_deepnote_index_column": "2019-11-20",
         "강수량": 0,
         "날씨기준": 1,
         "최심신적설": 0,
         "평균기온": 0.5,
         "평균전운량": 0,
         "평균풍속": 1.8
        },
        {
         "_deepnote_index_column": "2019-11-21",
         "강수량": 0,
         "날씨기준": 2,
         "최심신적설": 0,
         "평균기온": 4.2,
         "평균전운량": 6.1,
         "평균풍속": 1.9
        },
        {
         "_deepnote_index_column": "2019-11-22",
         "강수량": 0,
         "날씨기준": 1,
         "최심신적설": 0,
         "평균기온": 9.7,
         "평균전운량": 1.4,
         "평균풍속": 2.1
        },
        {
         "_deepnote_index_column": "2019-11-23",
         "강수량": 0,
         "날씨기준": 2,
         "최심신적설": 0,
         "평균기온": 12.1,
         "평균전운량": 6.1,
         "평균풍속": 1.8
        },
        {
         "_deepnote_index_column": "2019-11-24",
         "강수량": 3.8,
         "날씨기준": 3,
         "최심신적설": 0,
         "평균기온": 9.8,
         "평균전운량": 7.1,
         "평균풍속": 2.2
        },
        {
         "_deepnote_index_column": "2019-11-25",
         "강수량": 0,
         "날씨기준": 1,
         "최심신적설": 0,
         "평균기온": 1.9,
         "평균전운량": 4.4,
         "평균풍속": 2.7
        },
        {
         "_deepnote_index_column": "2019-11-26",
         "강수량": 0,
         "날씨기준": 1,
         "최심신적설": 0,
         "평균기온": 6.6,
         "평균전운량": 3.9,
         "평균풍속": 2
        }
       ]
      },
      "text/html": [
       "<div>\n",
       "<style scoped>\n",
       "    .dataframe tbody tr th:only-of-type {\n",
       "        vertical-align: middle;\n",
       "    }\n",
       "\n",
       "    .dataframe tbody tr th {\n",
       "        vertical-align: top;\n",
       "    }\n",
       "\n",
       "    .dataframe thead th {\n",
       "        text-align: right;\n",
       "    }\n",
       "</style>\n",
       "<table border=\"1\" class=\"dataframe\">\n",
       "  <thead>\n",
       "    <tr style=\"text-align: right;\">\n",
       "      <th></th>\n",
       "      <th>평균기온</th>\n",
       "      <th>강수량</th>\n",
       "      <th>평균풍속</th>\n",
       "      <th>최심신적설</th>\n",
       "      <th>평균전운량</th>\n",
       "      <th>날씨기준</th>\n",
       "    </tr>\n",
       "    <tr>\n",
       "      <th>일자</th>\n",
       "      <th></th>\n",
       "      <th></th>\n",
       "      <th></th>\n",
       "      <th></th>\n",
       "      <th></th>\n",
       "      <th></th>\n",
       "    </tr>\n",
       "  </thead>\n",
       "  <tbody>\n",
       "    <tr>\n",
       "      <th>2019-05-01</th>\n",
       "      <td>16.4</td>\n",
       "      <td>0.0</td>\n",
       "      <td>2.3</td>\n",
       "      <td>0.0</td>\n",
       "      <td>1.9</td>\n",
       "      <td>1</td>\n",
       "    </tr>\n",
       "    <tr>\n",
       "      <th>2019-05-02</th>\n",
       "      <td>17.1</td>\n",
       "      <td>0.0</td>\n",
       "      <td>2.3</td>\n",
       "      <td>0.0</td>\n",
       "      <td>0.0</td>\n",
       "      <td>1</td>\n",
       "    </tr>\n",
       "    <tr>\n",
       "      <th>2019-05-03</th>\n",
       "      <td>17.9</td>\n",
       "      <td>0.0</td>\n",
       "      <td>1.6</td>\n",
       "      <td>0.0</td>\n",
       "      <td>0.0</td>\n",
       "      <td>1</td>\n",
       "    </tr>\n",
       "    <tr>\n",
       "      <th>2019-05-04</th>\n",
       "      <td>19.5</td>\n",
       "      <td>0.0</td>\n",
       "      <td>1.7</td>\n",
       "      <td>0.0</td>\n",
       "      <td>4.9</td>\n",
       "      <td>1</td>\n",
       "    </tr>\n",
       "    <tr>\n",
       "      <th>2019-05-05</th>\n",
       "      <td>19.2</td>\n",
       "      <td>0.0</td>\n",
       "      <td>2.2</td>\n",
       "      <td>0.0</td>\n",
       "      <td>5.1</td>\n",
       "      <td>1</td>\n",
       "    </tr>\n",
       "    <tr>\n",
       "      <th>...</th>\n",
       "      <td>...</td>\n",
       "      <td>...</td>\n",
       "      <td>...</td>\n",
       "      <td>...</td>\n",
       "      <td>...</td>\n",
       "      <td>...</td>\n",
       "    </tr>\n",
       "    <tr>\n",
       "      <th>2019-12-27</th>\n",
       "      <td>-1.7</td>\n",
       "      <td>0.0</td>\n",
       "      <td>2.1</td>\n",
       "      <td>0.0</td>\n",
       "      <td>0.0</td>\n",
       "      <td>1</td>\n",
       "    </tr>\n",
       "    <tr>\n",
       "      <th>2019-12-28</th>\n",
       "      <td>1.1</td>\n",
       "      <td>0.0</td>\n",
       "      <td>2.0</td>\n",
       "      <td>0.0</td>\n",
       "      <td>3.5</td>\n",
       "      <td>1</td>\n",
       "    </tr>\n",
       "    <tr>\n",
       "      <th>2019-12-29</th>\n",
       "      <td>3.8</td>\n",
       "      <td>1.4</td>\n",
       "      <td>2.9</td>\n",
       "      <td>0.0</td>\n",
       "      <td>9.0</td>\n",
       "      <td>2</td>\n",
       "    </tr>\n",
       "    <tr>\n",
       "      <th>2019-12-30</th>\n",
       "      <td>2.7</td>\n",
       "      <td>0.4</td>\n",
       "      <td>2.9</td>\n",
       "      <td>0.0</td>\n",
       "      <td>7.5</td>\n",
       "      <td>2</td>\n",
       "    </tr>\n",
       "    <tr>\n",
       "      <th>2019-12-31</th>\n",
       "      <td>-7.9</td>\n",
       "      <td>0.0</td>\n",
       "      <td>3.1</td>\n",
       "      <td>0.0</td>\n",
       "      <td>1.3</td>\n",
       "      <td>1</td>\n",
       "    </tr>\n",
       "  </tbody>\n",
       "</table>\n",
       "<p>245 rows × 6 columns</p>\n",
       "</div>"
      ],
      "text/plain": [
       "            평균기온  강수량  평균풍속  최심신적설  평균전운량  날씨기준\n",
       "일자                                             \n",
       "2019-05-01  16.4  0.0   2.3    0.0    1.9     1\n",
       "2019-05-02  17.1  0.0   2.3    0.0    0.0     1\n",
       "2019-05-03  17.9  0.0   1.6    0.0    0.0     1\n",
       "2019-05-04  19.5  0.0   1.7    0.0    4.9     1\n",
       "2019-05-05  19.2  0.0   2.2    0.0    5.1     1\n",
       "...          ...  ...   ...    ...    ...   ...\n",
       "2019-12-27  -1.7  0.0   2.1    0.0    0.0     1\n",
       "2019-12-28   1.1  0.0   2.0    0.0    3.5     1\n",
       "2019-12-29   3.8  1.4   2.9    0.0    9.0     2\n",
       "2019-12-30   2.7  0.4   2.9    0.0    7.5     2\n",
       "2019-12-31  -7.9  0.0   3.1    0.0    1.3     1\n",
       "\n",
       "[245 rows x 6 columns]"
      ]
     },
     "execution_count": 72,
     "metadata": {},
     "output_type": "execute_result"
    }
   ],
   "source": [
    "weather"
   ]
  },
  {
   "cell_type": "code",
   "execution_count": null,
   "metadata": {
    "cell_id": "3569da051a3d41df97658d4fe6dda9c9",
    "deepnote_cell_height": 66,
    "deepnote_cell_type": "code",
    "tags": []
   },
   "outputs": [],
   "source": []
  },
  {
   "cell_type": "markdown",
   "metadata": {
    "created_in_deepnote_cell": true,
    "deepnote_cell_type": "markdown",
    "tags": []
   },
   "source": [
    "<a style='text-decoration:none;line-height:16px;display:flex;color:#5B5B62;padding:10px;justify-content:end;' href='https://deepnote.com?utm_source=created-in-deepnote-cell&projectId=aeda0379-ef07-4599-92da-f5608bf4c48d' target=\"_blank\">\n",
    "<img alt='Created in deepnote.com' style='display:inline;max-height:16px;margin:0px;margin-right:7.5px;' src='data:image/svg+xml;base64,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' > </img>\n",
    "Created in <span style='font-weight:600;margin-left:4px;'>Deepnote</span></a>"
   ]
  }
 ],
 "metadata": {
  "deepnote": {
   "is_reactive": false
  },
  "deepnote_execution_queue": [],
  "deepnote_notebook_id": "88e5d2c8-3b3d-4ad0-90f7-d1d322d2298e",
  "interpreter": {
   "hash": "b0fa6594d8f4cbf19f97940f81e996739fb7646882a419484c72d19e05852a7e"
  },
  "kernelspec": {
   "display_name": "Python 3.9.10 64-bit",
   "language": "python",
   "name": "python3"
  },
  "language_info": {
   "codemirror_mode": {
    "name": "ipython",
    "version": 3
   },
   "file_extension": ".py",
   "mimetype": "text/x-python",
   "name": "python",
   "nbconvert_exporter": "python",
   "pygments_lexer": "ipython3",
   "version": "3.9.10"
  },
  "orig_nbformat": 2
 },
 "nbformat": 4,
 "nbformat_minor": 2
}
