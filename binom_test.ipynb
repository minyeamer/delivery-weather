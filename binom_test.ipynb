{
 "cells": [
  {
   "cell_type": "code",
   "metadata": {
    "tags": [],
    "deepnote_to_be_reexecuted": false,
    "source_hash": "d67d5a8c",
    "execution_start": 1649212763366,
    "execution_millis": 3,
    "cell_id": "abba8c46-6540-4dcc-b953-7877ac596002",
    "deepnote_cell_type": "code",
    "deepnote_cell_height": 297
   },
   "source": "import numpy as np\nimport pandas as pd\n\nimport seaborn as sns\n\nimport matplotlib.pyplot as plt\n\nimport math\nimport scipy as sp\nfrom scipy import stats\n\nimport warnings\nwarnings.filterwarnings(\"ignore\")",
   "execution_count": null,
   "outputs": []
  },
  {
   "cell_type": "code",
   "metadata": {
    "tags": [],
    "deepnote_to_be_reexecuted": false,
    "source_hash": "faefa953",
    "execution_start": 1649212764507,
    "execution_millis": 0,
    "cell_id": "00001-ff47087b-cf24-4dab-abdc-dd1853c41686",
    "deepnote_cell_type": "code",
    "deepnote_cell_height": 117
   },
   "source": "year_list = ['2019', '2020', '2021']\nstart_list = ['08-01', '01-01', '01-01']\nend_list = ['12-31', '12-31', '07-31']",
   "execution_count": null,
   "outputs": []
  },
  {
   "cell_type": "code",
   "metadata": {
    "tags": [],
    "deepnote_to_be_reexecuted": false,
    "source_hash": "3b9b314",
    "execution_start": 1649212765845,
    "execution_millis": 5472,
    "cell_id": "00002-bbe8ee42-9211-4601-b543-8f3908c250c6",
    "deepnote_cell_type": "code",
    "deepnote_cell_height": 279
   },
   "source": "#상위 디렉토리에서 모듈 가져오기\nimport os,sys,inspect\ncurrentdir = os.path.dirname(os.path.abspath(inspect.getfile(inspect.currentframe())))\nparentdir = os.path.dirname(currentdir)\nsys.path.insert(0,parentdir)\n\nfrom delivery.delivery_data import get_dataframe as get_delivery\n\ndelivery_list = []\n\nfor year, start, end in zip(year_list, start_list, end_list):\n    delivery_list.append(get_delivery(year, start, end, '../delivery/original_data/'))",
   "execution_count": null,
   "outputs": []
  },
  {
   "cell_type": "code",
   "metadata": {
    "tags": [],
    "deepnote_to_be_reexecuted": false,
    "source_hash": "c3211489",
    "execution_start": 1649212771325,
    "execution_millis": 231,
    "cell_id": "00003-2e1ff4d6-742c-454b-aab0-d7d879dbdeab",
    "deepnote_cell_type": "code",
    "deepnote_cell_height": 405
   },
   "source": "from weather.weather_data import get_dataframe as get_weather\n\nweather_list = []\n\nfor year, start, end in zip(year_list, start_list, end_list):\n    weather_df = get_weather(year, start, end, '../weather/original_data/')\n    del weather_df['cloud']\n    del weather_df['snow']\n    del weather_df['wind']\n\n    # 배달 데이터에서 누락된 행 제거\n    if year == '2020':\n        weather_df = weather_df.drop('05-18')\n    elif year == '2021':\n        missing_values = ['03-27', '03-28', '03-29', '03-30', '03-31', '07-20', '07-21']\n        for missing_value in missing_values:\n            weather_df = weather_df.drop(missing_value)\n\n    weather_list.append(weather_df)",
   "execution_count": null,
   "outputs": []
  },
  {
   "cell_type": "code",
   "metadata": {
    "tags": [],
    "deepnote_to_be_reexecuted": false,
    "source_hash": "ab4910cf",
    "execution_start": 1649212772578,
    "execution_millis": 31,
    "cell_id": "00004-3c11a04c-35f8-4cbd-a355-56b170c88f9a",
    "deepnote_cell_type": "code",
    "deepnote_cell_height": 261
   },
   "source": "sunny_days, rainy_days = [], []\nwarm_days, hot_days, cold_days = [], [], []\n\nfor weather_df in weather_list:\n    weather_df = weather_df.reset_index()\n    sunny_days.append(weather_df[ weather_df['rain'] < 3.0 ]['date'].tolist())\n    rainy_days.append(weather_df[ weather_df['rain'] >= 3.0 ]['date'].tolist())\n    warm_days.append(weather_df[ (weather_df['temp'] <= 24.0) & (weather_df['temp'] >= 1.2) ]['date'].tolist())\n    hot_days.append(weather_df[ weather_df['temp'] > 24.0 ]['date'].tolist())\n    cold_days.append(weather_df[ weather_df['temp'] < 1.2 ]['date'].tolist())\n    weather_df = weather_df.set_index('date')",
   "execution_count": null,
   "outputs": []
  },
  {
   "cell_type": "code",
   "metadata": {
    "tags": [],
    "deepnote_to_be_reexecuted": false,
    "source_hash": "59543b0f",
    "execution_start": 1649212773775,
    "execution_millis": 6,
    "cell_id": "00005-8824e29d-ec92-4fb0-bf3c-6b8d0fd562c9",
    "deepnote_cell_type": "code",
    "deepnote_cell_height": 315
   },
   "source": "sunny_list, rainy_list = [], []\nwarm_list, hot_list, cold_list = [], [], []\n\nrain_zip = zip(delivery_list, sunny_days, rainy_days)\ntemp_zip = zip(delivery_list, warm_days, hot_days, cold_days)\n\nfor delivery_df, sunny_day, rainy_day in rain_zip:\n    sunny_list.append(delivery_df.loc[sunny_day])\n    rainy_list.append(delivery_df.loc[rainy_day])\n\nfor delivery_df, warm_day, hot_day, cold_day in temp_zip:\n    warm_list.append(delivery_df.loc[warm_day])\n    hot_list.append(delivery_df.loc[hot_day])\n    cold_list.append(delivery_df.loc[cold_day])",
   "execution_count": null,
   "outputs": []
  },
  {
   "cell_type": "markdown",
   "source": "## 이항검정(binom_test)",
   "metadata": {
    "tags": [],
    "cell_id": "00006-237939ba-82b3-4c8e-afff-d0719832496f",
    "deepnote_cell_type": "markdown",
    "deepnote_cell_height": 110
   }
  },
  {
   "cell_type": "markdown",
   "source": "#### 귀무가설 : 온도가 내려간 날에 심부름양이 변하지 않았다.\n#### 대립가설 : 온도가 내려간 날에 심부름양이 증가할 것이다",
   "metadata": {
    "tags": [],
    "cell_id": "00007-04a23e76-ce09-405b-a4fb-e0e13319a70c",
    "deepnote_cell_type": "markdown",
    "deepnote_cell_height": 146
   }
  },
  {
   "cell_type": "code",
   "metadata": {
    "tags": [],
    "deepnote_to_be_reexecuted": false,
    "source_hash": "16fc11a1",
    "execution_start": 1649213139316,
    "execution_millis": 17,
    "deepnote_table_state": {
     "pageSize": 10,
     "pageIndex": 1,
     "filters": [],
     "sortBy": []
    },
    "deepnote_table_loading": false,
    "deepnote_table_invalid": false,
    "cell_id": "00008-df022e77-34b7-4e4d-8841-f5ff32f96956",
    "deepnote_cell_type": "code",
    "deepnote_cell_height": 963
   },
   "source": "# 배달 음식 카테고리 리스트로 가져오기(총 배달횟수 포함)\ncategories_s = delivery_list[0].columns.tolist()[:]\n# 온도 데이터 가져옴\nweather_df = weather_list[0]\n\n# 전날 대비 온도 증감 계산\ntemp_diff = np.diff(weather_df['temp']).tolist()\ntemp_diff.insert(0, 0)\n\n# 반올림\nfor i in range(len(temp_diff)):\n    temp_diff[i] = round(temp_diff[i],1)\n\n# weather_df에 추가하고 원본 데이터 drop\nweather_df['temp_diff'] = temp_diff\nweather_df = weather_df.drop(columns={'temp', 'rain'})\n\n# 그냥 심부름 배달량 데이터 가져옴\nall_delivery_list = delivery_list.copy()\n\nsim_delivery = pd.DataFrame(all_delivery_list[0])\nfor category in categories_s:\n    if category != 'simburum':\n        sim_delivery = sim_delivery.drop(columns={category})\n\n# 전날 대비 심부름 증감 계산\nsim_diff = np.diff(sim_delivery['simburum']).tolist()\nsim_diff.insert(0, 0)\n\n# 전날대비 심부름 증감 추가\nsim_delivery['simburum_diff'] = sim_diff\n\n# 원본 심부름 데이터 삭제\nsim_delivery = sim_delivery.drop(columns={'simburum'})\n\n# 온도 즘감량 추가\nsim_delivery = sim_delivery.join(weather_df)\n\n# 전날 대비 온도가 낮아진 날이면서 전날대비 배달량 증가한 데이터 뽑아서 모아줌\nboth = (sim_delivery.simburum_diff > 0) & (sim_delivery.temp_diff < 0)\ncold_simburum_df = sim_delivery[both]\n\n# 전날대비 온도가 낮아진 날\ncolder_days = weather_df[weather_df.temp_diff<0]\n\n# 온도가 내려간 날 중 심부름 배달이 증가한 날\nsim_increase = cold_simburum_df[cold_simburum_df.simburum_diff > 0]\n\n\n",
   "execution_count": null,
   "outputs": []
  },
  {
   "cell_type": "code",
   "metadata": {
    "cell_id": "533235b769984c898021ba4a56b60515",
    "tags": [],
    "deepnote_to_be_reexecuted": false,
    "source_hash": "b915e65f",
    "execution_start": 1649213711877,
    "execution_millis": 11,
    "deepnote_cell_type": "code",
    "deepnote_cell_height": 641
   },
   "source": "cold_simburum_df",
   "execution_count": null,
   "outputs": [
    {
     "output_type": "execute_result",
     "execution_count": 82,
     "data": {
      "application/vnd.deepnote.dataframe.v3+json": {
       "column_count": 2,
       "row_count": 26,
       "columns": [
        {
         "name": "simburum_diff",
         "dtype": "float64",
         "stats": {
          "unique_count": 16,
          "nan_count": 0,
          "min": "1.0",
          "max": "94.0",
          "histogram": [
           {
            "bin_start": 1,
            "bin_end": 10.3,
            "count": 16
           },
           {
            "bin_start": 10.3,
            "bin_end": 19.6,
            "count": 4
           },
           {
            "bin_start": 19.6,
            "bin_end": 28.900000000000002,
            "count": 3
           },
           {
            "bin_start": 28.900000000000002,
            "bin_end": 38.2,
            "count": 1
           },
           {
            "bin_start": 38.2,
            "bin_end": 47.5,
            "count": 1
           },
           {
            "bin_start": 47.5,
            "bin_end": 56.800000000000004,
            "count": 0
           },
           {
            "bin_start": 56.800000000000004,
            "bin_end": 66.10000000000001,
            "count": 0
           },
           {
            "bin_start": 66.10000000000001,
            "bin_end": 75.4,
            "count": 0
           },
           {
            "bin_start": 75.4,
            "bin_end": 84.7,
            "count": 0
           },
           {
            "bin_start": 84.7,
            "bin_end": 94,
            "count": 1
           }
          ]
         }
        },
        {
         "name": "temp_diff",
         "dtype": "float64",
         "stats": {
          "unique_count": 20,
          "nan_count": 0,
          "min": "-7.9",
          "max": "-0.1",
          "histogram": [
           {
            "bin_start": -7.9,
            "bin_end": -7.12,
            "count": 1
           },
           {
            "bin_start": -7.12,
            "bin_end": -6.34,
            "count": 1
           },
           {
            "bin_start": -6.34,
            "bin_end": -5.5600000000000005,
            "count": 1
           },
           {
            "bin_start": -5.5600000000000005,
            "bin_end": -4.78,
            "count": 0
           },
           {
            "bin_start": -4.78,
            "bin_end": -4,
            "count": 1
           },
           {
            "bin_start": -4,
            "bin_end": -3.2200000000000006,
            "count": 3
           },
           {
            "bin_start": -3.2200000000000006,
            "bin_end": -2.4400000000000004,
            "count": 2
           },
           {
            "bin_start": -2.4400000000000004,
            "bin_end": -1.6600000000000001,
            "count": 2
           },
           {
            "bin_start": -1.6600000000000001,
            "bin_end": -0.8799999999999999,
            "count": 9
           },
           {
            "bin_start": -0.8799999999999999,
            "bin_end": -0.1,
            "count": 6
           }
          ]
         }
        },
        {
         "name": "_deepnote_index_column",
         "dtype": "object"
        }
       ],
       "rows": [
        {
         "simburum_diff": 22,
         "temp_diff": -0.9,
         "_deepnote_index_column": "11-04"
        },
        {
         "simburum_diff": 4,
         "temp_diff": -1.4,
         "_deepnote_index_column": "11-05"
        },
        {
         "simburum_diff": 2,
         "temp_diff": -1.4,
         "_deepnote_index_column": "11-06"
        },
        {
         "simburum_diff": 1,
         "temp_diff": -1.8,
         "_deepnote_index_column": "11-07"
        },
        {
         "simburum_diff": 3,
         "temp_diff": -1.9,
         "_deepnote_index_column": "11-12"
        },
        {
         "simburum_diff": 1,
         "temp_diff": -5.9,
         "_deepnote_index_column": "11-14"
        },
        {
         "simburum_diff": 31,
         "temp_diff": -3.7,
         "_deepnote_index_column": "11-18"
        },
        {
         "simburum_diff": 21,
         "temp_diff": -7.9,
         "_deepnote_index_column": "11-25"
        },
        {
         "simburum_diff": 12,
         "temp_diff": -4.7,
         "_deepnote_index_column": "12-02"
        },
        {
         "simburum_diff": 6,
         "temp_diff": -1.5,
         "_deepnote_index_column": "12-06"
        }
       ]
      },
      "text/plain": "       simburum_diff  temp_diff\ndate                           \n08-27            6.0       -0.7\n08-29            7.0       -2.7\n08-30           12.0       -0.8\n09-30            9.0       -0.2\n10-05            1.0       -3.7\n10-12           43.0       -0.9\n10-14           94.0       -2.8\n10-23            3.0       -1.1\n10-25            4.0       -1.6\n10-30            4.0       -1.3\n11-04           22.0       -0.9\n11-05            4.0       -1.4\n11-06            2.0       -1.4\n11-07            1.0       -1.8\n11-12            3.0       -1.9\n11-14            1.0       -5.9\n11-18           31.0       -3.7\n11-25           21.0       -7.9\n12-02           12.0       -4.7\n12-06            6.0       -1.5\n12-12            1.0       -7.0\n12-17           12.0       -0.1\n12-20            8.0       -0.3\n12-23           23.0       -0.7\n12-27            7.0       -3.7\n12-30           11.0       -1.1",
      "text/html": "<div>\n<style scoped>\n    .dataframe tbody tr th:only-of-type {\n        vertical-align: middle;\n    }\n\n    .dataframe tbody tr th {\n        vertical-align: top;\n    }\n\n    .dataframe thead th {\n        text-align: right;\n    }\n</style>\n<table border=\"1\" class=\"dataframe\">\n  <thead>\n    <tr style=\"text-align: right;\">\n      <th></th>\n      <th>simburum_diff</th>\n      <th>temp_diff</th>\n    </tr>\n    <tr>\n      <th>date</th>\n      <th></th>\n      <th></th>\n    </tr>\n  </thead>\n  <tbody>\n    <tr>\n      <th>08-27</th>\n      <td>6.0</td>\n      <td>-0.7</td>\n    </tr>\n    <tr>\n      <th>08-29</th>\n      <td>7.0</td>\n      <td>-2.7</td>\n    </tr>\n    <tr>\n      <th>08-30</th>\n      <td>12.0</td>\n      <td>-0.8</td>\n    </tr>\n    <tr>\n      <th>09-30</th>\n      <td>9.0</td>\n      <td>-0.2</td>\n    </tr>\n    <tr>\n      <th>10-05</th>\n      <td>1.0</td>\n      <td>-3.7</td>\n    </tr>\n    <tr>\n      <th>10-12</th>\n      <td>43.0</td>\n      <td>-0.9</td>\n    </tr>\n    <tr>\n      <th>10-14</th>\n      <td>94.0</td>\n      <td>-2.8</td>\n    </tr>\n    <tr>\n      <th>10-23</th>\n      <td>3.0</td>\n      <td>-1.1</td>\n    </tr>\n    <tr>\n      <th>10-25</th>\n      <td>4.0</td>\n      <td>-1.6</td>\n    </tr>\n    <tr>\n      <th>10-30</th>\n      <td>4.0</td>\n      <td>-1.3</td>\n    </tr>\n    <tr>\n      <th>11-04</th>\n      <td>22.0</td>\n      <td>-0.9</td>\n    </tr>\n    <tr>\n      <th>11-05</th>\n      <td>4.0</td>\n      <td>-1.4</td>\n    </tr>\n    <tr>\n      <th>11-06</th>\n      <td>2.0</td>\n      <td>-1.4</td>\n    </tr>\n    <tr>\n      <th>11-07</th>\n      <td>1.0</td>\n      <td>-1.8</td>\n    </tr>\n    <tr>\n      <th>11-12</th>\n      <td>3.0</td>\n      <td>-1.9</td>\n    </tr>\n    <tr>\n      <th>11-14</th>\n      <td>1.0</td>\n      <td>-5.9</td>\n    </tr>\n    <tr>\n      <th>11-18</th>\n      <td>31.0</td>\n      <td>-3.7</td>\n    </tr>\n    <tr>\n      <th>11-25</th>\n      <td>21.0</td>\n      <td>-7.9</td>\n    </tr>\n    <tr>\n      <th>12-02</th>\n      <td>12.0</td>\n      <td>-4.7</td>\n    </tr>\n    <tr>\n      <th>12-06</th>\n      <td>6.0</td>\n      <td>-1.5</td>\n    </tr>\n    <tr>\n      <th>12-12</th>\n      <td>1.0</td>\n      <td>-7.0</td>\n    </tr>\n    <tr>\n      <th>12-17</th>\n      <td>12.0</td>\n      <td>-0.1</td>\n    </tr>\n    <tr>\n      <th>12-20</th>\n      <td>8.0</td>\n      <td>-0.3</td>\n    </tr>\n    <tr>\n      <th>12-23</th>\n      <td>23.0</td>\n      <td>-0.7</td>\n    </tr>\n    <tr>\n      <th>12-27</th>\n      <td>7.0</td>\n      <td>-3.7</td>\n    </tr>\n    <tr>\n      <th>12-30</th>\n      <td>11.0</td>\n      <td>-1.1</td>\n    </tr>\n  </tbody>\n</table>\n</div>"
     },
     "metadata": {}
    }
   ]
  },
  {
   "cell_type": "code",
   "metadata": {
    "cell_id": "f914341a1312453ebe515c3ec15ed484",
    "tags": [],
    "deepnote_to_be_reexecuted": false,
    "source_hash": "9a533da4",
    "execution_start": 1649213356240,
    "execution_millis": 7,
    "deepnote_cell_type": "code",
    "deepnote_cell_height": 149.390625
   },
   "source": "print(\"전날대비 온도가 낮아진 날: \", colder_days.size)\nprint(\"온도가 내려간 날 중 심부름 배달이 증가한 날: \", sim_increase.size)",
   "execution_count": null,
   "outputs": [
    {
     "name": "stdout",
     "text": "전날대비 온도가 낮아진 날:  71\n온도가 내려간 날 중 심부름 배달이 증가한 날:  52\n",
     "output_type": "stream"
    }
   ]
  },
  {
   "cell_type": "code",
   "metadata": {
    "cell_id": "acd2cafe703b47a1b7ff4e04a07e319e",
    "tags": [],
    "deepnote_to_be_reexecuted": false,
    "source_hash": "5ddb31b0",
    "execution_start": 1649213868679,
    "execution_millis": 6,
    "deepnote_cell_type": "code",
    "deepnote_cell_height": 172.1875,
    "deepnote_output_heights": [
     21.1875
    ]
   },
   "source": "증가한날 = 60\n감소한날 = 40\n전체일수 = 증가한날 + 감소한날\nsp.stats.binom_test(증가한날, 전체일수, p=0.5, alternative=\"greater\")",
   "execution_count": null,
   "outputs": [
    {
     "output_type": "execute_result",
     "execution_count": 84,
     "data": {
      "text/plain": "0.02844396682049044"
     },
     "metadata": {}
    }
   ]
  },
  {
   "cell_type": "code",
   "metadata": {
    "cell_id": "449f0c87717643f996fe9b2852a9e09d",
    "tags": [],
    "deepnote_to_be_reexecuted": false,
    "source_hash": "62f0f069",
    "allow_embed": false,
    "execution_start": 1649213893675,
    "execution_millis": 185,
    "deepnote_cell_type": "code",
    "deepnote_cell_height": 172.1875,
    "deepnote_output_heights": [
     21.1875
    ]
   },
   "source": "증가한날 = 60\n감소한날 = 40\n전체일수 = 증가한날 + 감소한날\nsp.stats.binom_test(52, 71, p=0.5, alternative=\"greater\")",
   "execution_count": null,
   "outputs": [
    {
     "output_type": "execute_result",
     "execution_count": 86,
     "data": {
      "text/plain": "5.6134323447494e-05"
     },
     "metadata": {}
    }
   ]
  },
  {
   "cell_type": "markdown",
   "source": "##### 결론: ",
   "metadata": {
    "tags": [],
    "cell_id": "00009-530b3d35-80d3-4c3d-a64c-10021c3caeb5",
    "deepnote_cell_type": "markdown",
    "deepnote_cell_height": 54
   }
  },
  {
   "cell_type": "markdown",
   "source": "2-1)  stats.binom_test(x, p=, alternative=\"greater\") : 단측검정",
   "metadata": {
    "tags": [],
    "cell_id": "00015-b9043678-b0c0-4a66-93ac-47dc07cc87ff",
    "deepnote_cell_type": "markdown",
    "deepnote_cell_height": 74.796875
   }
  },
  {
   "cell_type": "code",
   "metadata": {
    "tags": [],
    "deepnote_to_be_reexecuted": false,
    "source_hash": "9af064d4",
    "allow_embed": false,
    "execution_start": 1649213257384,
    "execution_millis": 38,
    "cell_id": "00016-235ba31f-78ff-408f-96c2-37d088ec6667",
    "deepnote_cell_type": "code",
    "deepnote_cell_height": 129.6875
   },
   "source": "p_value = sp.stats.binom_test(sim_increase.size, colder_days.size, p=0.5, alternative = \"greater\")\nprint(p_value)",
   "execution_count": null,
   "outputs": [
    {
     "name": "stdout",
     "text": "5.6134323447494e-05\n",
     "output_type": "stream"
    }
   ]
  },
  {
   "cell_type": "code",
   "metadata": {
    "cell_id": "55e5e0098cf04f9b95ded03f6074d911",
    "tags": [],
    "deepnote_to_be_reexecuted": false,
    "source_hash": "236ad36d",
    "execution_start": 1649213283823,
    "execution_millis": 7,
    "deepnote_cell_type": "code",
    "deepnote_cell_height": 129.6875
   },
   "source": "p_value = sp.stats.binom_test(sim_increase.size, colder_days.size, p=0.5, alternative = \"less\")\nprint(p_value)",
   "execution_count": null,
   "outputs": [
    {
     "name": "stdout",
     "text": "0.9999805762086031\n",
     "output_type": "stream"
    }
   ]
  },
  {
   "cell_type": "code",
   "metadata": {
    "cell_id": "5791c4a3a0e949fc9df51dff7cb3563b",
    "tags": [],
    "deepnote_to_be_reexecuted": false,
    "source_hash": "9581522",
    "execution_start": 1649209692875,
    "execution_millis": 32,
    "deepnote_cell_type": "code",
    "deepnote_cell_height": 227.078125
   },
   "source": "print(cold_simburum_df.simburum_diff.size)\nprint(colder_days.size)",
   "execution_count": null,
   "outputs": [
    {
     "name": "stdout",
     "text": "50\n",
     "output_type": "stream"
    },
    {
     "output_type": "error",
     "ename": "AttributeError",
     "evalue": "'int' object has no attribute 'size'",
     "traceback": [
      "\u001b[0;31m---------------------------------------------------------------------------\u001b[0m",
      "\u001b[0;31mAttributeError\u001b[0m                            Traceback (most recent call last)",
      "\u001b[0;32m<ipython-input-52-6bb309615643>\u001b[0m in \u001b[0;36m<cell line: 2>\u001b[0;34m()\u001b[0m\n\u001b[1;32m      1\u001b[0m \u001b[0mprint\u001b[0m\u001b[0;34m(\u001b[0m\u001b[0mcold_simburum_df\u001b[0m\u001b[0;34m.\u001b[0m\u001b[0msimburum_diff\u001b[0m\u001b[0;34m.\u001b[0m\u001b[0msize\u001b[0m\u001b[0;34m)\u001b[0m\u001b[0;34m\u001b[0m\u001b[0;34m\u001b[0m\u001b[0m\n\u001b[0;32m----> 2\u001b[0;31m \u001b[0mprint\u001b[0m\u001b[0;34m(\u001b[0m\u001b[0mcolder_days\u001b[0m\u001b[0;34m.\u001b[0m\u001b[0msize\u001b[0m\u001b[0;34m)\u001b[0m\u001b[0;34m\u001b[0m\u001b[0;34m\u001b[0m\u001b[0m\n\u001b[0m",
      "\u001b[0;31mAttributeError\u001b[0m: 'int' object has no attribute 'size'"
     ]
    }
   ]
  },
  {
   "cell_type": "markdown",
   "source": "2-2)  stats.binom_test(x, p=, alternative=\"less\") : 단측검정(조건 반전)",
   "metadata": {
    "tags": [],
    "cell_id": "00017-7a833252-8c7b-4806-aa39-7834b6226839",
    "deepnote_cell_type": "markdown",
    "deepnote_cell_height": 74.796875
   }
  },
  {
   "cell_type": "code",
   "metadata": {
    "tags": [],
    "deepnote_to_be_reexecuted": false,
    "source_hash": "a2a3799c",
    "allow_embed": false,
    "execution_start": 1649207360791,
    "execution_millis": 11,
    "cell_id": "00018-4197b2cf-89e5-45e8-aba6-0dc42b892e38",
    "deepnote_cell_type": "code",
    "deepnote_cell_height": 129.6875
   },
   "source": "p_value = sp.stats.binom_test([colder_days.size, cold_simburum_df.simburum_diff.size], p=0.5, alternative = \"less\")\nprint(p_value)",
   "execution_count": null,
   "outputs": [
    {
     "name": "stdout",
     "text": "1.0\n",
     "output_type": "stream"
    }
   ]
  },
  {
   "cell_type": "code",
   "metadata": {
    "tags": [],
    "cell_id": "00028-dda4b4bf-8366-40c6-b61a-bd924a040f0d",
    "deepnote_cell_type": "code",
    "deepnote_cell_height": 66
   },
   "source": "",
   "execution_count": null,
   "outputs": []
  },
  {
   "cell_type": "markdown",
   "source": "<a style='text-decoration:none;line-height:16px;display:flex;color:#5B5B62;padding:10px;justify-content:end;' href='https://deepnote.com?utm_source=created-in-deepnote-cell&projectId=aeda0379-ef07-4599-92da-f5608bf4c48d' target=\"_blank\">\n<img alt='Created in deepnote.com' style='display:inline;max-height:16px;margin:0px;margin-right:7.5px;' src='data:image/svg+xml;base64,PD94bWwgdmVyc2lvbj0iMS4wIiBlbmNvZGluZz0iVVRGLTgiPz4KPHN2ZyB3aWR0aD0iODBweCIgaGVpZ2h0PSI4MHB4IiB2aWV3Qm94PSIwIDAgODAgODAiIHZlcnNpb249IjEuMSIgeG1sbnM9Imh0dHA6Ly93d3cudzMub3JnLzIwMDAvc3ZnIiB4bWxuczp4bGluaz0iaHR0cDovL3d3dy53My5vcmcvMTk5OS94bGluayI+CiAgICA8IS0tIEdlbmVyYXRvcjogU2tldGNoIDU0LjEgKDc2NDkwKSAtIGh0dHBzOi8vc2tldGNoYXBwLmNvbSAtLT4KICAgIDx0aXRsZT5Hcm91cCAzPC90aXRsZT4KICAgIDxkZXNjPkNyZWF0ZWQgd2l0aCBTa2V0Y2guPC9kZXNjPgogICAgPGcgaWQ9IkxhbmRpbmciIHN0cm9rZT0ibm9uZSIgc3Ryb2tlLXdpZHRoPSIxIiBmaWxsPSJub25lIiBmaWxsLXJ1bGU9ImV2ZW5vZGQiPgogICAgICAgIDxnIGlkPSJBcnRib2FyZCIgdHJhbnNmb3JtPSJ0cmFuc2xhdGUoLTEyMzUuMDAwMDAwLCAtNzkuMDAwMDAwKSI+CiAgICAgICAgICAgIDxnIGlkPSJHcm91cC0zIiB0cmFuc2Zvcm09InRyYW5zbGF0ZSgxMjM1LjAwMDAwMCwgNzkuMDAwMDAwKSI+CiAgICAgICAgICAgICAgICA8cG9seWdvbiBpZD0iUGF0aC0yMCIgZmlsbD0iIzAyNjVCNCIgcG9pbnRzPSIyLjM3NjIzNzYyIDgwIDM4LjA0NzY2NjcgODAgNTcuODIxNzgyMiA3My44MDU3NTkyIDU3LjgyMTc4MjIgMzIuNzU5MjczOSAzOS4xNDAyMjc4IDMxLjY4MzE2ODMiPjwvcG9seWdvbj4KICAgICAgICAgICAgICAgIDxwYXRoIGQ9Ik0zNS4wMDc3MTgsODAgQzQyLjkwNjIwMDcsNzYuNDU0OTM1OCA0Ny41NjQ5MTY3LDcxLjU0MjI2NzEgNDguOTgzODY2LDY1LjI2MTk5MzkgQzUxLjExMjI4OTksNTUuODQxNTg0MiA0MS42NzcxNzk1LDQ5LjIxMjIyODQgMjUuNjIzOTg0Niw0OS4yMTIyMjg0IEMyNS40ODQ5Mjg5LDQ5LjEyNjg0NDggMjkuODI2MTI5Niw0My4yODM4MjQ4IDM4LjY0NzU4NjksMzEuNjgzMTY4MyBMNzIuODcxMjg3MSwzMi41NTQ0MjUgTDY1LjI4MDk3Myw2Ny42NzYzNDIxIEw1MS4xMTIyODk5LDc3LjM3NjE0NCBMMzUuMDA3NzE4LDgwIFoiIGlkPSJQYXRoLTIyIiBmaWxsPSIjMDAyODY4Ij48L3BhdGg+CiAgICAgICAgICAgICAgICA8cGF0aCBkPSJNMCwzNy43MzA0NDA1IEwyNy4xMTQ1MzcsMC4yNTcxMTE0MzYgQzYyLjM3MTUxMjMsLTEuOTkwNzE3MDEgODAsMTAuNTAwMzkyNyA4MCwzNy43MzA0NDA1IEM4MCw2NC45NjA0ODgyIDY0Ljc3NjUwMzgsNzkuMDUwMzQxNCAzNC4zMjk1MTEzLDgwIEM0Ny4wNTUzNDg5LDc3LjU2NzA4MDggNTMuNDE4MjY3Nyw3MC4zMTM2MTAzIDUzLjQxODI2NzcsNTguMjM5NTg4NSBDNTMuNDE4MjY3Nyw0MC4xMjg1NTU3IDM2LjMwMzk1NDQsMzcuNzMwNDQwNSAyNS4yMjc0MTcsMzcuNzMwNDQwNSBDMTcuODQzMDU4NiwzNy43MzA0NDA1IDkuNDMzOTE5NjYsMzcuNzMwNDQwNSAwLDM3LjczMDQ0MDUgWiIgaWQ9IlBhdGgtMTkiIGZpbGw9IiMzNzkzRUYiPjwvcGF0aD4KICAgICAgICAgICAgPC9nPgogICAgICAgIDwvZz4KICAgIDwvZz4KPC9zdmc+' > </img>\nCreated in <span style='font-weight:600;margin-left:4px;'>Deepnote</span></a>",
   "metadata": {
    "tags": [],
    "created_in_deepnote_cell": true,
    "deepnote_cell_type": "markdown"
   }
  }
 ],
 "nbformat": 4,
 "nbformat_minor": 2,
 "metadata": {
  "orig_nbformat": 2,
  "deepnote": {
   "is_reactive": false
  },
  "deepnote_notebook_id": "869ad649-57d8-435e-a26e-07406a05fa95",
  "deepnote_execution_queue": []
 }
}